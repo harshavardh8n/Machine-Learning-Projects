{
 "cells": [
  {
   "cell_type": "code",
   "execution_count": 2,
   "id": "36514acf",
   "metadata": {},
   "outputs": [],
   "source": [
    "import numpy as np\n",
    "import pandas as pd\n",
    "import matplotlib as pm\n",
    "import matplotlib.pyplot as plt\n",
    "import seaborn as sns\n",
    "import sklearn"
   ]
  },
  {
   "cell_type": "code",
   "execution_count": 3,
   "id": "c8b29124",
   "metadata": {},
   "outputs": [],
   "source": [
    "data = pd.read_csv(\"dataset2.csv\")"
   ]
  },
  {
   "cell_type": "code",
   "execution_count": 4,
   "id": "05ac4dbb",
   "metadata": {},
   "outputs": [
    {
     "data": {
      "text/html": [
       "<div>\n",
       "<style scoped>\n",
       "    .dataframe tbody tr th:only-of-type {\n",
       "        vertical-align: middle;\n",
       "    }\n",
       "\n",
       "    .dataframe tbody tr th {\n",
       "        vertical-align: top;\n",
       "    }\n",
       "\n",
       "    .dataframe thead th {\n",
       "        text-align: right;\n",
       "    }\n",
       "</style>\n",
       "<table border=\"1\" class=\"dataframe\">\n",
       "  <thead>\n",
       "    <tr style=\"text-align: right;\">\n",
       "      <th></th>\n",
       "      <th>price</th>\n",
       "      <th>area</th>\n",
       "      <th>bedrooms</th>\n",
       "      <th>bathrooms</th>\n",
       "      <th>stories</th>\n",
       "      <th>mainroad</th>\n",
       "      <th>guestroom</th>\n",
       "      <th>basement</th>\n",
       "      <th>hotwaterheating</th>\n",
       "      <th>airconditioning</th>\n",
       "      <th>parking</th>\n",
       "      <th>prefarea</th>\n",
       "      <th>furnishingstatus</th>\n",
       "    </tr>\n",
       "  </thead>\n",
       "  <tbody>\n",
       "    <tr>\n",
       "      <th>0</th>\n",
       "      <td>13300000</td>\n",
       "      <td>7420</td>\n",
       "      <td>4.0</td>\n",
       "      <td>2.0</td>\n",
       "      <td>3.0</td>\n",
       "      <td>yes</td>\n",
       "      <td>no</td>\n",
       "      <td>no</td>\n",
       "      <td>no</td>\n",
       "      <td>yes</td>\n",
       "      <td>2.0</td>\n",
       "      <td>yes</td>\n",
       "      <td>furnished</td>\n",
       "    </tr>\n",
       "    <tr>\n",
       "      <th>1</th>\n",
       "      <td>12250000</td>\n",
       "      <td>8960</td>\n",
       "      <td>4.0</td>\n",
       "      <td>4.0</td>\n",
       "      <td>4.0</td>\n",
       "      <td>yes</td>\n",
       "      <td>no</td>\n",
       "      <td>no</td>\n",
       "      <td>no</td>\n",
       "      <td>yes</td>\n",
       "      <td>3.0</td>\n",
       "      <td>no</td>\n",
       "      <td>furnished</td>\n",
       "    </tr>\n",
       "    <tr>\n",
       "      <th>2</th>\n",
       "      <td>12250000</td>\n",
       "      <td>9960</td>\n",
       "      <td>3.0</td>\n",
       "      <td>2.0</td>\n",
       "      <td>2.0</td>\n",
       "      <td>yes</td>\n",
       "      <td>no</td>\n",
       "      <td>yes</td>\n",
       "      <td>no</td>\n",
       "      <td>no</td>\n",
       "      <td>2.0</td>\n",
       "      <td>yes</td>\n",
       "      <td>semi-furnished</td>\n",
       "    </tr>\n",
       "    <tr>\n",
       "      <th>3</th>\n",
       "      <td>12215000</td>\n",
       "      <td>7500</td>\n",
       "      <td>4.0</td>\n",
       "      <td>2.0</td>\n",
       "      <td>2.0</td>\n",
       "      <td>yes</td>\n",
       "      <td>no</td>\n",
       "      <td>yes</td>\n",
       "      <td>no</td>\n",
       "      <td>yes</td>\n",
       "      <td>3.0</td>\n",
       "      <td>yes</td>\n",
       "      <td>furnished</td>\n",
       "    </tr>\n",
       "    <tr>\n",
       "      <th>4</th>\n",
       "      <td>11410000</td>\n",
       "      <td>7420</td>\n",
       "      <td>4.0</td>\n",
       "      <td>1.0</td>\n",
       "      <td>2.0</td>\n",
       "      <td>yes</td>\n",
       "      <td>yes</td>\n",
       "      <td>yes</td>\n",
       "      <td>no</td>\n",
       "      <td>yes</td>\n",
       "      <td>2.0</td>\n",
       "      <td>no</td>\n",
       "      <td>furnished</td>\n",
       "    </tr>\n",
       "    <tr>\n",
       "      <th>...</th>\n",
       "      <td>...</td>\n",
       "      <td>...</td>\n",
       "      <td>...</td>\n",
       "      <td>...</td>\n",
       "      <td>...</td>\n",
       "      <td>...</td>\n",
       "      <td>...</td>\n",
       "      <td>...</td>\n",
       "      <td>...</td>\n",
       "      <td>...</td>\n",
       "      <td>...</td>\n",
       "      <td>...</td>\n",
       "      <td>...</td>\n",
       "    </tr>\n",
       "    <tr>\n",
       "      <th>540</th>\n",
       "      <td>1820000</td>\n",
       "      <td>3000</td>\n",
       "      <td>2.0</td>\n",
       "      <td>1.0</td>\n",
       "      <td>1.0</td>\n",
       "      <td>yes</td>\n",
       "      <td>no</td>\n",
       "      <td>yes</td>\n",
       "      <td>no</td>\n",
       "      <td>no</td>\n",
       "      <td>2.0</td>\n",
       "      <td>no</td>\n",
       "      <td>unfurnished</td>\n",
       "    </tr>\n",
       "    <tr>\n",
       "      <th>541</th>\n",
       "      <td>1767150</td>\n",
       "      <td>2400</td>\n",
       "      <td>3.0</td>\n",
       "      <td>1.0</td>\n",
       "      <td>1.0</td>\n",
       "      <td>no</td>\n",
       "      <td>no</td>\n",
       "      <td>no</td>\n",
       "      <td>no</td>\n",
       "      <td>no</td>\n",
       "      <td>0.0</td>\n",
       "      <td>no</td>\n",
       "      <td>semi-furnished</td>\n",
       "    </tr>\n",
       "    <tr>\n",
       "      <th>542</th>\n",
       "      <td>1750000</td>\n",
       "      <td>3620</td>\n",
       "      <td>2.0</td>\n",
       "      <td>1.0</td>\n",
       "      <td>1.0</td>\n",
       "      <td>yes</td>\n",
       "      <td>no</td>\n",
       "      <td>no</td>\n",
       "      <td>no</td>\n",
       "      <td>no</td>\n",
       "      <td>0.0</td>\n",
       "      <td>no</td>\n",
       "      <td>unfurnished</td>\n",
       "    </tr>\n",
       "    <tr>\n",
       "      <th>543</th>\n",
       "      <td>1750000</td>\n",
       "      <td>2910</td>\n",
       "      <td>3.0</td>\n",
       "      <td>1.0</td>\n",
       "      <td>1.0</td>\n",
       "      <td>no</td>\n",
       "      <td>no</td>\n",
       "      <td>no</td>\n",
       "      <td>no</td>\n",
       "      <td>no</td>\n",
       "      <td>0.0</td>\n",
       "      <td>no</td>\n",
       "      <td>furnished</td>\n",
       "    </tr>\n",
       "    <tr>\n",
       "      <th>544</th>\n",
       "      <td>1750000</td>\n",
       "      <td>3850</td>\n",
       "      <td>3.0</td>\n",
       "      <td>1.0</td>\n",
       "      <td>2.0</td>\n",
       "      <td>yes</td>\n",
       "      <td>no</td>\n",
       "      <td>no</td>\n",
       "      <td>no</td>\n",
       "      <td>no</td>\n",
       "      <td>0.0</td>\n",
       "      <td>no</td>\n",
       "      <td>unfurnished</td>\n",
       "    </tr>\n",
       "  </tbody>\n",
       "</table>\n",
       "<p>545 rows × 13 columns</p>\n",
       "</div>"
      ],
      "text/plain": [
       "        price  area  bedrooms  bathrooms  stories mainroad guestroom basement  \\\n",
       "0    13300000  7420       4.0        2.0      3.0      yes        no       no   \n",
       "1    12250000  8960       4.0        4.0      4.0      yes        no       no   \n",
       "2    12250000  9960       3.0        2.0      2.0      yes        no      yes   \n",
       "3    12215000  7500       4.0        2.0      2.0      yes        no      yes   \n",
       "4    11410000  7420       4.0        1.0      2.0      yes       yes      yes   \n",
       "..        ...   ...       ...        ...      ...      ...       ...      ...   \n",
       "540   1820000  3000       2.0        1.0      1.0      yes        no      yes   \n",
       "541   1767150  2400       3.0        1.0      1.0       no        no       no   \n",
       "542   1750000  3620       2.0        1.0      1.0      yes        no       no   \n",
       "543   1750000  2910       3.0        1.0      1.0       no        no       no   \n",
       "544   1750000  3850       3.0        1.0      2.0      yes        no       no   \n",
       "\n",
       "    hotwaterheating airconditioning  parking prefarea furnishingstatus  \n",
       "0                no             yes      2.0      yes        furnished  \n",
       "1                no             yes      3.0       no        furnished  \n",
       "2                no              no      2.0      yes   semi-furnished  \n",
       "3                no             yes      3.0      yes        furnished  \n",
       "4                no             yes      2.0       no        furnished  \n",
       "..              ...             ...      ...      ...              ...  \n",
       "540              no              no      2.0       no      unfurnished  \n",
       "541              no              no      0.0       no   semi-furnished  \n",
       "542              no              no      0.0       no      unfurnished  \n",
       "543              no              no      0.0       no        furnished  \n",
       "544              no              no      0.0       no      unfurnished  \n",
       "\n",
       "[545 rows x 13 columns]"
      ]
     },
     "execution_count": 4,
     "metadata": {},
     "output_type": "execute_result"
    }
   ],
   "source": [
    "data"
   ]
  },
  {
   "cell_type": "code",
   "execution_count": 5,
   "id": "370d4658",
   "metadata": {},
   "outputs": [
    {
     "data": {
      "text/plain": [
       "(545, 13)"
      ]
     },
     "execution_count": 5,
     "metadata": {},
     "output_type": "execute_result"
    }
   ],
   "source": [
    "data.shape"
   ]
  },
  {
   "cell_type": "code",
   "execution_count": 6,
   "id": "cc17d5f6",
   "metadata": {},
   "outputs": [
    {
     "data": {
      "text/plain": [
       "price                 int64\n",
       "area                  int64\n",
       "bedrooms            float64\n",
       "bathrooms           float64\n",
       "stories             float64\n",
       "mainroad             object\n",
       "guestroom            object\n",
       "basement             object\n",
       "hotwaterheating      object\n",
       "airconditioning      object\n",
       "parking             float64\n",
       "prefarea             object\n",
       "furnishingstatus     object\n",
       "dtype: object"
      ]
     },
     "execution_count": 6,
     "metadata": {},
     "output_type": "execute_result"
    }
   ],
   "source": [
    "data.dtypes"
   ]
  },
  {
   "cell_type": "code",
   "execution_count": 7,
   "id": "324dde5e",
   "metadata": {},
   "outputs": [
    {
     "data": {
      "text/html": [
       "<div>\n",
       "<style scoped>\n",
       "    .dataframe tbody tr th:only-of-type {\n",
       "        vertical-align: middle;\n",
       "    }\n",
       "\n",
       "    .dataframe tbody tr th {\n",
       "        vertical-align: top;\n",
       "    }\n",
       "\n",
       "    .dataframe thead th {\n",
       "        text-align: right;\n",
       "    }\n",
       "</style>\n",
       "<table border=\"1\" class=\"dataframe\">\n",
       "  <thead>\n",
       "    <tr style=\"text-align: right;\">\n",
       "      <th></th>\n",
       "      <th>price</th>\n",
       "      <th>area</th>\n",
       "      <th>bedrooms</th>\n",
       "      <th>bathrooms</th>\n",
       "      <th>stories</th>\n",
       "      <th>mainroad</th>\n",
       "      <th>guestroom</th>\n",
       "      <th>basement</th>\n",
       "      <th>hotwaterheating</th>\n",
       "      <th>airconditioning</th>\n",
       "      <th>parking</th>\n",
       "      <th>prefarea</th>\n",
       "      <th>furnishingstatus</th>\n",
       "    </tr>\n",
       "  </thead>\n",
       "  <tbody>\n",
       "    <tr>\n",
       "      <th>0</th>\n",
       "      <td>13300000</td>\n",
       "      <td>7420</td>\n",
       "      <td>4.0</td>\n",
       "      <td>2.0</td>\n",
       "      <td>3.0</td>\n",
       "      <td>yes</td>\n",
       "      <td>no</td>\n",
       "      <td>no</td>\n",
       "      <td>no</td>\n",
       "      <td>yes</td>\n",
       "      <td>2.0</td>\n",
       "      <td>yes</td>\n",
       "      <td>furnished</td>\n",
       "    </tr>\n",
       "    <tr>\n",
       "      <th>1</th>\n",
       "      <td>12250000</td>\n",
       "      <td>8960</td>\n",
       "      <td>4.0</td>\n",
       "      <td>4.0</td>\n",
       "      <td>4.0</td>\n",
       "      <td>yes</td>\n",
       "      <td>no</td>\n",
       "      <td>no</td>\n",
       "      <td>no</td>\n",
       "      <td>yes</td>\n",
       "      <td>3.0</td>\n",
       "      <td>no</td>\n",
       "      <td>furnished</td>\n",
       "    </tr>\n",
       "    <tr>\n",
       "      <th>2</th>\n",
       "      <td>12250000</td>\n",
       "      <td>9960</td>\n",
       "      <td>3.0</td>\n",
       "      <td>2.0</td>\n",
       "      <td>2.0</td>\n",
       "      <td>yes</td>\n",
       "      <td>no</td>\n",
       "      <td>yes</td>\n",
       "      <td>no</td>\n",
       "      <td>no</td>\n",
       "      <td>2.0</td>\n",
       "      <td>yes</td>\n",
       "      <td>semi-furnished</td>\n",
       "    </tr>\n",
       "    <tr>\n",
       "      <th>3</th>\n",
       "      <td>12215000</td>\n",
       "      <td>7500</td>\n",
       "      <td>4.0</td>\n",
       "      <td>2.0</td>\n",
       "      <td>2.0</td>\n",
       "      <td>yes</td>\n",
       "      <td>no</td>\n",
       "      <td>yes</td>\n",
       "      <td>no</td>\n",
       "      <td>yes</td>\n",
       "      <td>3.0</td>\n",
       "      <td>yes</td>\n",
       "      <td>furnished</td>\n",
       "    </tr>\n",
       "    <tr>\n",
       "      <th>4</th>\n",
       "      <td>11410000</td>\n",
       "      <td>7420</td>\n",
       "      <td>4.0</td>\n",
       "      <td>1.0</td>\n",
       "      <td>2.0</td>\n",
       "      <td>yes</td>\n",
       "      <td>yes</td>\n",
       "      <td>yes</td>\n",
       "      <td>no</td>\n",
       "      <td>yes</td>\n",
       "      <td>2.0</td>\n",
       "      <td>no</td>\n",
       "      <td>furnished</td>\n",
       "    </tr>\n",
       "  </tbody>\n",
       "</table>\n",
       "</div>"
      ],
      "text/plain": [
       "      price  area  bedrooms  bathrooms  stories mainroad guestroom basement  \\\n",
       "0  13300000  7420       4.0        2.0      3.0      yes        no       no   \n",
       "1  12250000  8960       4.0        4.0      4.0      yes        no       no   \n",
       "2  12250000  9960       3.0        2.0      2.0      yes        no      yes   \n",
       "3  12215000  7500       4.0        2.0      2.0      yes        no      yes   \n",
       "4  11410000  7420       4.0        1.0      2.0      yes       yes      yes   \n",
       "\n",
       "  hotwaterheating airconditioning  parking prefarea furnishingstatus  \n",
       "0              no             yes      2.0      yes        furnished  \n",
       "1              no             yes      3.0       no        furnished  \n",
       "2              no              no      2.0      yes   semi-furnished  \n",
       "3              no             yes      3.0      yes        furnished  \n",
       "4              no             yes      2.0       no        furnished  "
      ]
     },
     "execution_count": 7,
     "metadata": {},
     "output_type": "execute_result"
    }
   ],
   "source": [
    "data.head()"
   ]
  },
  {
   "cell_type": "code",
   "execution_count": 8,
   "id": "dd9e478e",
   "metadata": {},
   "outputs": [
    {
     "data": {
      "text/html": [
       "<div>\n",
       "<style scoped>\n",
       "    .dataframe tbody tr th:only-of-type {\n",
       "        vertical-align: middle;\n",
       "    }\n",
       "\n",
       "    .dataframe tbody tr th {\n",
       "        vertical-align: top;\n",
       "    }\n",
       "\n",
       "    .dataframe thead th {\n",
       "        text-align: right;\n",
       "    }\n",
       "</style>\n",
       "<table border=\"1\" class=\"dataframe\">\n",
       "  <thead>\n",
       "    <tr style=\"text-align: right;\">\n",
       "      <th></th>\n",
       "      <th>price</th>\n",
       "      <th>area</th>\n",
       "      <th>bedrooms</th>\n",
       "      <th>bathrooms</th>\n",
       "      <th>stories</th>\n",
       "      <th>mainroad</th>\n",
       "      <th>guestroom</th>\n",
       "      <th>basement</th>\n",
       "      <th>hotwaterheating</th>\n",
       "      <th>airconditioning</th>\n",
       "      <th>parking</th>\n",
       "      <th>prefarea</th>\n",
       "      <th>furnishingstatus</th>\n",
       "    </tr>\n",
       "  </thead>\n",
       "  <tbody>\n",
       "    <tr>\n",
       "      <th>540</th>\n",
       "      <td>1820000</td>\n",
       "      <td>3000</td>\n",
       "      <td>2.0</td>\n",
       "      <td>1.0</td>\n",
       "      <td>1.0</td>\n",
       "      <td>yes</td>\n",
       "      <td>no</td>\n",
       "      <td>yes</td>\n",
       "      <td>no</td>\n",
       "      <td>no</td>\n",
       "      <td>2.0</td>\n",
       "      <td>no</td>\n",
       "      <td>unfurnished</td>\n",
       "    </tr>\n",
       "    <tr>\n",
       "      <th>541</th>\n",
       "      <td>1767150</td>\n",
       "      <td>2400</td>\n",
       "      <td>3.0</td>\n",
       "      <td>1.0</td>\n",
       "      <td>1.0</td>\n",
       "      <td>no</td>\n",
       "      <td>no</td>\n",
       "      <td>no</td>\n",
       "      <td>no</td>\n",
       "      <td>no</td>\n",
       "      <td>0.0</td>\n",
       "      <td>no</td>\n",
       "      <td>semi-furnished</td>\n",
       "    </tr>\n",
       "    <tr>\n",
       "      <th>542</th>\n",
       "      <td>1750000</td>\n",
       "      <td>3620</td>\n",
       "      <td>2.0</td>\n",
       "      <td>1.0</td>\n",
       "      <td>1.0</td>\n",
       "      <td>yes</td>\n",
       "      <td>no</td>\n",
       "      <td>no</td>\n",
       "      <td>no</td>\n",
       "      <td>no</td>\n",
       "      <td>0.0</td>\n",
       "      <td>no</td>\n",
       "      <td>unfurnished</td>\n",
       "    </tr>\n",
       "    <tr>\n",
       "      <th>543</th>\n",
       "      <td>1750000</td>\n",
       "      <td>2910</td>\n",
       "      <td>3.0</td>\n",
       "      <td>1.0</td>\n",
       "      <td>1.0</td>\n",
       "      <td>no</td>\n",
       "      <td>no</td>\n",
       "      <td>no</td>\n",
       "      <td>no</td>\n",
       "      <td>no</td>\n",
       "      <td>0.0</td>\n",
       "      <td>no</td>\n",
       "      <td>furnished</td>\n",
       "    </tr>\n",
       "    <tr>\n",
       "      <th>544</th>\n",
       "      <td>1750000</td>\n",
       "      <td>3850</td>\n",
       "      <td>3.0</td>\n",
       "      <td>1.0</td>\n",
       "      <td>2.0</td>\n",
       "      <td>yes</td>\n",
       "      <td>no</td>\n",
       "      <td>no</td>\n",
       "      <td>no</td>\n",
       "      <td>no</td>\n",
       "      <td>0.0</td>\n",
       "      <td>no</td>\n",
       "      <td>unfurnished</td>\n",
       "    </tr>\n",
       "  </tbody>\n",
       "</table>\n",
       "</div>"
      ],
      "text/plain": [
       "       price  area  bedrooms  bathrooms  stories mainroad guestroom basement  \\\n",
       "540  1820000  3000       2.0        1.0      1.0      yes        no      yes   \n",
       "541  1767150  2400       3.0        1.0      1.0       no        no       no   \n",
       "542  1750000  3620       2.0        1.0      1.0      yes        no       no   \n",
       "543  1750000  2910       3.0        1.0      1.0       no        no       no   \n",
       "544  1750000  3850       3.0        1.0      2.0      yes        no       no   \n",
       "\n",
       "    hotwaterheating airconditioning  parking prefarea furnishingstatus  \n",
       "540              no              no      2.0       no      unfurnished  \n",
       "541              no              no      0.0       no   semi-furnished  \n",
       "542              no              no      0.0       no      unfurnished  \n",
       "543              no              no      0.0       no        furnished  \n",
       "544              no              no      0.0       no      unfurnished  "
      ]
     },
     "execution_count": 8,
     "metadata": {},
     "output_type": "execute_result"
    }
   ],
   "source": [
    "data.tail()"
   ]
  },
  {
   "cell_type": "code",
   "execution_count": 9,
   "id": "2c8798d7",
   "metadata": {
    "scrolled": true
   },
   "outputs": [
    {
     "data": {
      "text/html": [
       "<div>\n",
       "<style scoped>\n",
       "    .dataframe tbody tr th:only-of-type {\n",
       "        vertical-align: middle;\n",
       "    }\n",
       "\n",
       "    .dataframe tbody tr th {\n",
       "        vertical-align: top;\n",
       "    }\n",
       "\n",
       "    .dataframe thead th {\n",
       "        text-align: right;\n",
       "    }\n",
       "</style>\n",
       "<table border=\"1\" class=\"dataframe\">\n",
       "  <thead>\n",
       "    <tr style=\"text-align: right;\">\n",
       "      <th></th>\n",
       "      <th>price</th>\n",
       "      <th>area</th>\n",
       "      <th>bedrooms</th>\n",
       "      <th>bathrooms</th>\n",
       "      <th>stories</th>\n",
       "      <th>parking</th>\n",
       "    </tr>\n",
       "  </thead>\n",
       "  <tbody>\n",
       "    <tr>\n",
       "      <th>count</th>\n",
       "      <td>5.450000e+02</td>\n",
       "      <td>545.000000</td>\n",
       "      <td>540.000000</td>\n",
       "      <td>540.000000</td>\n",
       "      <td>543.000000</td>\n",
       "      <td>541.000000</td>\n",
       "    </tr>\n",
       "    <tr>\n",
       "      <th>mean</th>\n",
       "      <td>4.766729e+06</td>\n",
       "      <td>5150.541284</td>\n",
       "      <td>2.961111</td>\n",
       "      <td>1.285185</td>\n",
       "      <td>1.804788</td>\n",
       "      <td>0.691312</td>\n",
       "    </tr>\n",
       "    <tr>\n",
       "      <th>std</th>\n",
       "      <td>1.870440e+06</td>\n",
       "      <td>2170.141023</td>\n",
       "      <td>0.738779</td>\n",
       "      <td>0.502464</td>\n",
       "      <td>0.869011</td>\n",
       "      <td>0.860070</td>\n",
       "    </tr>\n",
       "    <tr>\n",
       "      <th>min</th>\n",
       "      <td>1.750000e+06</td>\n",
       "      <td>1650.000000</td>\n",
       "      <td>1.000000</td>\n",
       "      <td>1.000000</td>\n",
       "      <td>1.000000</td>\n",
       "      <td>0.000000</td>\n",
       "    </tr>\n",
       "    <tr>\n",
       "      <th>25%</th>\n",
       "      <td>3.430000e+06</td>\n",
       "      <td>3600.000000</td>\n",
       "      <td>2.000000</td>\n",
       "      <td>1.000000</td>\n",
       "      <td>1.000000</td>\n",
       "      <td>0.000000</td>\n",
       "    </tr>\n",
       "    <tr>\n",
       "      <th>50%</th>\n",
       "      <td>4.340000e+06</td>\n",
       "      <td>4600.000000</td>\n",
       "      <td>3.000000</td>\n",
       "      <td>1.000000</td>\n",
       "      <td>2.000000</td>\n",
       "      <td>0.000000</td>\n",
       "    </tr>\n",
       "    <tr>\n",
       "      <th>75%</th>\n",
       "      <td>5.740000e+06</td>\n",
       "      <td>6360.000000</td>\n",
       "      <td>3.000000</td>\n",
       "      <td>2.000000</td>\n",
       "      <td>2.000000</td>\n",
       "      <td>1.000000</td>\n",
       "    </tr>\n",
       "    <tr>\n",
       "      <th>max</th>\n",
       "      <td>1.330000e+07</td>\n",
       "      <td>16200.000000</td>\n",
       "      <td>6.000000</td>\n",
       "      <td>4.000000</td>\n",
       "      <td>4.000000</td>\n",
       "      <td>3.000000</td>\n",
       "    </tr>\n",
       "  </tbody>\n",
       "</table>\n",
       "</div>"
      ],
      "text/plain": [
       "              price          area    bedrooms   bathrooms     stories  \\\n",
       "count  5.450000e+02    545.000000  540.000000  540.000000  543.000000   \n",
       "mean   4.766729e+06   5150.541284    2.961111    1.285185    1.804788   \n",
       "std    1.870440e+06   2170.141023    0.738779    0.502464    0.869011   \n",
       "min    1.750000e+06   1650.000000    1.000000    1.000000    1.000000   \n",
       "25%    3.430000e+06   3600.000000    2.000000    1.000000    1.000000   \n",
       "50%    4.340000e+06   4600.000000    3.000000    1.000000    2.000000   \n",
       "75%    5.740000e+06   6360.000000    3.000000    2.000000    2.000000   \n",
       "max    1.330000e+07  16200.000000    6.000000    4.000000    4.000000   \n",
       "\n",
       "          parking  \n",
       "count  541.000000  \n",
       "mean     0.691312  \n",
       "std      0.860070  \n",
       "min      0.000000  \n",
       "25%      0.000000  \n",
       "50%      0.000000  \n",
       "75%      1.000000  \n",
       "max      3.000000  "
      ]
     },
     "execution_count": 9,
     "metadata": {},
     "output_type": "execute_result"
    }
   ],
   "source": [
    "data.describe()"
   ]
  },
  {
   "cell_type": "code",
   "execution_count": null,
   "id": "d4a179d2",
   "metadata": {},
   "outputs": [],
   "source": []
  },
  {
   "cell_type": "code",
   "execution_count": 10,
   "id": "fd248de0",
   "metadata": {},
   "outputs": [
    {
     "data": {
      "text/plain": [
       "price               0\n",
       "area                0\n",
       "bedrooms            5\n",
       "bathrooms           5\n",
       "stories             2\n",
       "mainroad            0\n",
       "guestroom           0\n",
       "basement            0\n",
       "hotwaterheating     0\n",
       "airconditioning     0\n",
       "parking             4\n",
       "prefarea            0\n",
       "furnishingstatus    0\n",
       "dtype: int64"
      ]
     },
     "execution_count": 10,
     "metadata": {},
     "output_type": "execute_result"
    }
   ],
   "source": [
    "data.isnull().sum()"
   ]
  },
  {
   "cell_type": "code",
   "execution_count": 11,
   "id": "d0ae4fa7",
   "metadata": {},
   "outputs": [
    {
     "data": {
      "text/plain": [
       "price        4.766729e+06\n",
       "area         5.150541e+03\n",
       "bedrooms     2.961111e+00\n",
       "bathrooms    1.285185e+00\n",
       "stories      1.804788e+00\n",
       "parking      6.913124e-01\n",
       "dtype: float64"
      ]
     },
     "execution_count": 11,
     "metadata": {},
     "output_type": "execute_result"
    }
   ],
   "source": [
    "data.mean(numeric_only=True)"
   ]
  },
  {
   "cell_type": "code",
   "execution_count": 12,
   "id": "2960a46e",
   "metadata": {},
   "outputs": [],
   "source": [
    "data[\"bedrooms\"].fillna(data[\"bedrooms\"].mean(), inplace=True)"
   ]
  },
  {
   "cell_type": "code",
   "execution_count": 13,
   "id": "40cad7da",
   "metadata": {},
   "outputs": [
    {
     "data": {
      "text/plain": [
       "price               0\n",
       "area                0\n",
       "bedrooms            0\n",
       "bathrooms           5\n",
       "stories             2\n",
       "mainroad            0\n",
       "guestroom           0\n",
       "basement            0\n",
       "hotwaterheating     0\n",
       "airconditioning     0\n",
       "parking             4\n",
       "prefarea            0\n",
       "furnishingstatus    0\n",
       "dtype: int64"
      ]
     },
     "execution_count": 13,
     "metadata": {},
     "output_type": "execute_result"
    }
   ],
   "source": [
    "data.isna().sum()"
   ]
  },
  {
   "cell_type": "code",
   "execution_count": 14,
   "id": "12c1832d",
   "metadata": {},
   "outputs": [],
   "source": [
    "data[\"bathrooms\"].fillna(data[\"bathrooms\"].mean(), inplace=True)"
   ]
  },
  {
   "cell_type": "code",
   "execution_count": 15,
   "id": "c4b46ed0",
   "metadata": {},
   "outputs": [
    {
     "data": {
      "text/plain": [
       "price               0\n",
       "area                0\n",
       "bedrooms            0\n",
       "bathrooms           0\n",
       "stories             2\n",
       "mainroad            0\n",
       "guestroom           0\n",
       "basement            0\n",
       "hotwaterheating     0\n",
       "airconditioning     0\n",
       "parking             4\n",
       "prefarea            0\n",
       "furnishingstatus    0\n",
       "dtype: int64"
      ]
     },
     "execution_count": 15,
     "metadata": {},
     "output_type": "execute_result"
    }
   ],
   "source": [
    "data.isna().sum()"
   ]
  },
  {
   "cell_type": "code",
   "execution_count": 16,
   "id": "6c09cf5b",
   "metadata": {},
   "outputs": [],
   "source": [
    "data[\"stories\"].fillna(data[\"stories\"].mean(), inplace=True)"
   ]
  },
  {
   "cell_type": "code",
   "execution_count": 17,
   "id": "f213078b",
   "metadata": {},
   "outputs": [
    {
     "data": {
      "text/plain": [
       "price               0\n",
       "area                0\n",
       "bedrooms            0\n",
       "bathrooms           0\n",
       "stories             0\n",
       "mainroad            0\n",
       "guestroom           0\n",
       "basement            0\n",
       "hotwaterheating     0\n",
       "airconditioning     0\n",
       "parking             4\n",
       "prefarea            0\n",
       "furnishingstatus    0\n",
       "dtype: int64"
      ]
     },
     "execution_count": 17,
     "metadata": {},
     "output_type": "execute_result"
    }
   ],
   "source": [
    "data.isna().sum()"
   ]
  },
  {
   "cell_type": "code",
   "execution_count": 18,
   "id": "6ca50e6a",
   "metadata": {},
   "outputs": [],
   "source": [
    "data[\"parking\"].fillna(data[\"parking\"].mean(), inplace=True)"
   ]
  },
  {
   "cell_type": "code",
   "execution_count": 19,
   "id": "1a32fba4",
   "metadata": {},
   "outputs": [
    {
     "data": {
      "text/plain": [
       "price               0\n",
       "area                0\n",
       "bedrooms            0\n",
       "bathrooms           0\n",
       "stories             0\n",
       "mainroad            0\n",
       "guestroom           0\n",
       "basement            0\n",
       "hotwaterheating     0\n",
       "airconditioning     0\n",
       "parking             0\n",
       "prefarea            0\n",
       "furnishingstatus    0\n",
       "dtype: int64"
      ]
     },
     "execution_count": 19,
     "metadata": {},
     "output_type": "execute_result"
    }
   ],
   "source": [
    "data.isna().sum()"
   ]
  },
  {
   "cell_type": "code",
   "execution_count": 20,
   "id": "f60ab545",
   "metadata": {},
   "outputs": [
    {
     "data": {
      "text/plain": [
       "price               545\n",
       "area                545\n",
       "bedrooms            545\n",
       "bathrooms           545\n",
       "stories             545\n",
       "mainroad            545\n",
       "guestroom           545\n",
       "basement            545\n",
       "hotwaterheating     545\n",
       "airconditioning     545\n",
       "parking             545\n",
       "prefarea            545\n",
       "furnishingstatus    545\n",
       "dtype: int64"
      ]
     },
     "execution_count": 20,
     "metadata": {},
     "output_type": "execute_result"
    }
   ],
   "source": [
    "data.count()"
   ]
  },
  {
   "cell_type": "code",
   "execution_count": 21,
   "id": "f2014c9b",
   "metadata": {},
   "outputs": [
    {
     "data": {
      "text/plain": [
       "price                 0\n",
       "area                  0\n",
       "bedrooms              0\n",
       "bathrooms             0\n",
       "stories               0\n",
       "mainroad              0\n",
       "guestroom             0\n",
       "basement              0\n",
       "hotwaterheating       0\n",
       "airconditioning       0\n",
       "parking             297\n",
       "prefarea              0\n",
       "furnishingstatus      0\n",
       "dtype: int64"
      ]
     },
     "execution_count": 21,
     "metadata": {},
     "output_type": "execute_result"
    }
   ],
   "source": [
    "data[data==0].count()"
   ]
  },
  {
   "cell_type": "code",
   "execution_count": null,
   "id": "157ff8bb",
   "metadata": {},
   "outputs": [],
   "source": []
  },
  {
   "cell_type": "code",
   "execution_count": 22,
   "id": "f1ccf628",
   "metadata": {},
   "outputs": [
    {
     "data": {
      "text/plain": [
       "<Axes: >"
      ]
     },
     "execution_count": 22,
     "metadata": {},
     "output_type": "execute_result"
    },
    {
     "data": {
      "image/png": "[encoded data removed]",
      "text/plain": [
       "<Figure size 640x480 with 1 Axes>"
      ]
     },
     "metadata": {},
     "output_type": "display_data"
    }
   ],
   "source": [
    "data.plot()"
   ]
  },
  {
   "cell_type": "code",
   "execution_count": 23,
   "id": "1b4defed",
   "metadata": {},
   "outputs": [
    {
     "data": {
      "image/png": "[encoded data removed]",
      "text/plain": [
       "<Figure size 640x480 with 1 Axes>"
      ]
     },
     "metadata": {},
     "output_type": "display_data"
    }
   ],
   "source": [
    "#scatter plot\n",
    "plt.scatter(data[\"area\"],data[\"price\"])\n",
    "plt.xlabel([\"Area\"])\n",
    "plt.ylabel(\"Price\")\n",
    "plt.show()\n",
    "\n"
   ]
  },
  {
   "cell_type": "code",
   "execution_count": 24,
   "id": "9797a366",
   "metadata": {},
   "outputs": [
    {
     "data": {
      "image/png": "[encoded data removed]",
      "text/plain": [
       "<Figure size 640x480 with 1 Axes>"
      ]
     },
     "metadata": {},
     "output_type": "display_data"
    }
   ],
   "source": [
    "plt.scatter(data[\"bedrooms\"],data[\"price\"])\n",
    "plt.xlabel([\"bedrooms\"])\n",
    "plt.ylabel(\"Price\")\n",
    "plt.show()  "
   ]
  },
  {
   "cell_type": "code",
   "execution_count": 25,
   "id": "10089a32",
   "metadata": {},
   "outputs": [
    {
     "data": {
      "image/png": "[encoded data removed]",
      "text/plain": [
       "<Figure size 640x480 with 1 Axes>"
      ]
     },
     "metadata": {},
     "output_type": "display_data"
    }
   ],
   "source": [
    "plt.scatter(data[\"bathrooms\"],data[\"price\"])\n",
    "plt.xlabel([\"bathrooms\"])\n",
    "plt.ylabel(\"Price\")\n",
    "plt.show()\n",
    "\n"
   ]
  },
  {
   "cell_type": "code",
   "execution_count": 26,
   "id": "07388ec0",
   "metadata": {},
   "outputs": [
    {
     "data": {
      "image/png": "[encoded data removed]",
      "text/plain": [
       "<Figure size 640x480 with 1 Axes>"
      ]
     },
     "metadata": {},
     "output_type": "display_data"
    }
   ],
   "source": [
    "\n",
    "plt.scatter(data[\"stories\"],data[\"price\"])\n",
    "plt.xlabel([\"stories\"])\n",
    "plt.ylabel(\"Price\")\n",
    "plt.show()\n",
    "\n",
    "\n"
   ]
  },
  {
   "cell_type": "code",
   "execution_count": 27,
   "id": "7af563ea",
   "metadata": {},
   "outputs": [
    {
     "data": {
      "image/png": "[encoded data removed]",
      "text/plain": [
       "<Figure size 640x480 with 1 Axes>"
      ]
     },
     "metadata": {},
     "output_type": "display_data"
    }
   ],
   "source": [
    "plt.scatter(data[\"parking\"],data[\"price\"])\n",
    "plt.xlabel([\"parking\"])\n",
    "plt.ylabel(\"Price\")\n",
    "plt.show()\n",
    "\n"
   ]
  },
  {
   "cell_type": "code",
   "execution_count": 28,
   "id": "42c2626d",
   "metadata": {},
   "outputs": [
    {
     "name": "stderr",
     "output_type": "stream",
     "text": [
      "C:\\Users\\harshavardhan\\AppData\\Local\\Temp\\ipykernel_1280\\1684965625.py:1: UserWarning: \n",
      "\n",
      "`distplot` is a deprecated function and will be removed in seaborn v0.14.0.\n",
      "\n",
      "Please adapt your code to use either `displot` (a figure-level function with\n",
      "similar flexibility) or `histplot` (an axes-level function for histograms).\n",
      "\n",
      "For a guide to updating your code to use the new functions, please see\n",
      "https://gist.github.com/mwaskom/de44147ed2974457ad6372750bbe5751\n",
      "\n",
      "  sns.distplot(data.price,kde=True,bins=15)\n",
      "C:\\Users\\harshavardhan\\AppData\\Local\\Programs\\Python\\Python310\\lib\\site-packages\\seaborn\\_oldcore.py:1498: FutureWarning: is_categorical_dtype is deprecated and will be removed in a future version. Use isinstance(dtype, CategoricalDtype) instead\n",
      "  if pd.api.types.is_categorical_dtype(vector):\n",
      "C:\\Users\\harshavardhan\\AppData\\Local\\Programs\\Python\\Python310\\lib\\site-packages\\seaborn\\_oldcore.py:1119: FutureWarning: use_inf_as_na option is deprecated and will be removed in a future version. Convert inf values to NaN before operating instead.\n",
      "  with pd.option_context('mode.use_inf_as_na', True):\n"
     ]
    },
    {
     "data": {
      "text/plain": [
       "<Axes: xlabel='price', ylabel='Density'>"
      ]
     },
     "execution_count": 28,
     "metadata": {},
     "output_type": "execute_result"
    },
    {
     "data": {
      "image/png": "[encoded data removed]",
      "text/plain": [
       "<Figure size 640x480 with 1 Axes>"
      ]
     },
     "metadata": {},
     "output_type": "display_data"
    }
   ],
   "source": [
    "sns.distplot(data.price,kde=True,bins=15)\n"
   ]
  },
  {
   "cell_type": "code",
   "execution_count": 29,
   "id": "956d80fb",
   "metadata": {},
   "outputs": [
    {
     "name": "stderr",
     "output_type": "stream",
     "text": [
      "C:\\Users\\harshavardhan\\AppData\\Local\\Temp\\ipykernel_1280\\3633261917.py:1: UserWarning: \n",
      "\n",
      "`distplot` is a deprecated function and will be removed in seaborn v0.14.0.\n",
      "\n",
      "Please adapt your code to use either `displot` (a figure-level function with\n",
      "similar flexibility) or `histplot` (an axes-level function for histograms).\n",
      "\n",
      "For a guide to updating your code to use the new functions, please see\n",
      "https://gist.github.com/mwaskom/de44147ed2974457ad6372750bbe5751\n",
      "\n",
      "  sns.distplot(data.area,kde=True,bins=15)\n",
      "C:\\Users\\harshavardhan\\AppData\\Local\\Programs\\Python\\Python310\\lib\\site-packages\\seaborn\\_oldcore.py:1498: FutureWarning: is_categorical_dtype is deprecated and will be removed in a future version. Use isinstance(dtype, CategoricalDtype) instead\n",
      "  if pd.api.types.is_categorical_dtype(vector):\n",
      "C:\\Users\\harshavardhan\\AppData\\Local\\Programs\\Python\\Python310\\lib\\site-packages\\seaborn\\_oldcore.py:1119: FutureWarning: use_inf_as_na option is deprecated and will be removed in a future version. Convert inf values to NaN before operating instead.\n",
      "  with pd.option_context('mode.use_inf_as_na', True):\n"
     ]
    },
    {
     "data": {
      "text/plain": [
       "<Axes: xlabel='area', ylabel='Density'>"
      ]
     },
     "execution_count": 29,
     "metadata": {},
     "output_type": "execute_result"
    },
    {
     "data": {
      "image/png": "[encoded data removed]",
      "text/plain": [
       "<Figure size 640x480 with 1 Axes>"
      ]
     },
     "metadata": {},
     "output_type": "display_data"
    }
   ],
   "source": [
    "sns.distplot(data.area,kde=True,bins=15)\n"
   ]
  },
  {
   "cell_type": "code",
   "execution_count": 30,
   "id": "9bcecf85",
   "metadata": {},
   "outputs": [
    {
     "name": "stderr",
     "output_type": "stream",
     "text": [
      "C:\\Users\\harshavardhan\\AppData\\Local\\Temp\\ipykernel_1280\\1065941707.py:1: UserWarning: \n",
      "\n",
      "`distplot` is a deprecated function and will be removed in seaborn v0.14.0.\n",
      "\n",
      "Please adapt your code to use either `displot` (a figure-level function with\n",
      "similar flexibility) or `histplot` (an axes-level function for histograms).\n",
      "\n",
      "For a guide to updating your code to use the new functions, please see\n",
      "https://gist.github.com/mwaskom/de44147ed2974457ad6372750bbe5751\n",
      "\n",
      "  sns.distplot(data.bedrooms,kde=True,bins=15)\n",
      "C:\\Users\\harshavardhan\\AppData\\Local\\Programs\\Python\\Python310\\lib\\site-packages\\seaborn\\_oldcore.py:1498: FutureWarning: is_categorical_dtype is deprecated and will be removed in a future version. Use isinstance(dtype, CategoricalDtype) instead\n",
      "  if pd.api.types.is_categorical_dtype(vector):\n",
      "C:\\Users\\harshavardhan\\AppData\\Local\\Programs\\Python\\Python310\\lib\\site-packages\\seaborn\\_oldcore.py:1119: FutureWarning: use_inf_as_na option is deprecated and will be removed in a future version. Convert inf values to NaN before operating instead.\n",
      "  with pd.option_context('mode.use_inf_as_na', True):\n"
     ]
    },
    {
     "data": {
      "text/plain": [
       "<Axes: xlabel='bedrooms', ylabel='Density'>"
      ]
     },
     "execution_count": 30,
     "metadata": {},
     "output_type": "execute_result"
    },
    {
     "data": {
      "image/png": "[encoded data removed]",
      "text/plain": [
       "<Figure size 640x480 with 1 Axes>"
      ]
     },
     "metadata": {},
     "output_type": "display_data"
    }
   ],
   "source": [
    "sns.distplot(data.bedrooms,kde=True,bins=15)\n"
   ]
  },
  {
   "cell_type": "code",
   "execution_count": 31,
   "id": "802ba97c",
   "metadata": {},
   "outputs": [
    {
     "name": "stderr",
     "output_type": "stream",
     "text": [
      "C:\\Users\\harshavardhan\\AppData\\Local\\Temp\\ipykernel_1280\\2813012274.py:1: UserWarning: \n",
      "\n",
      "`distplot` is a deprecated function and will be removed in seaborn v0.14.0.\n",
      "\n",
      "Please adapt your code to use either `displot` (a figure-level function with\n",
      "similar flexibility) or `histplot` (an axes-level function for histograms).\n",
      "\n",
      "For a guide to updating your code to use the new functions, please see\n",
      "https://gist.github.com/mwaskom/de44147ed2974457ad6372750bbe5751\n",
      "\n",
      "  sns.distplot(data.bathrooms,kde=True,bins=15)\n",
      "C:\\Users\\harshavardhan\\AppData\\Local\\Programs\\Python\\Python310\\lib\\site-packages\\seaborn\\_oldcore.py:1498: FutureWarning: is_categorical_dtype is deprecated and will be removed in a future version. Use isinstance(dtype, CategoricalDtype) instead\n",
      "  if pd.api.types.is_categorical_dtype(vector):\n",
      "C:\\Users\\harshavardhan\\AppData\\Local\\Programs\\Python\\Python310\\lib\\site-packages\\seaborn\\_oldcore.py:1119: FutureWarning: use_inf_as_na option is deprecated and will be removed in a future version. Convert inf values to NaN before operating instead.\n",
      "  with pd.option_context('mode.use_inf_as_na', True):\n"
     ]
    },
    {
     "data": {
      "text/plain": [
       "<Axes: xlabel='bathrooms', ylabel='Density'>"
      ]
     },
     "execution_count": 31,
     "metadata": {},
     "output_type": "execute_result"
    },
    {
     "data": {
      "image/png": "[encoded data removed]",
      "text/plain": [
       "<Figure size 640x480 with 1 Axes>"
      ]
     },
     "metadata": {},
     "output_type": "display_data"
    }
   ],
   "source": [
    "sns.distplot(data.bathrooms,kde=True,bins=15)\n"
   ]
  },
  {
   "cell_type": "code",
   "execution_count": 32,
   "id": "f412e48d",
   "metadata": {},
   "outputs": [
    {
     "name": "stderr",
     "output_type": "stream",
     "text": [
      "C:\\Users\\harshavardhan\\AppData\\Local\\Temp\\ipykernel_1280\\410075500.py:1: UserWarning: \n",
      "\n",
      "`distplot` is a deprecated function and will be removed in seaborn v0.14.0.\n",
      "\n",
      "Please adapt your code to use either `displot` (a figure-level function with\n",
      "similar flexibility) or `histplot` (an axes-level function for histograms).\n",
      "\n",
      "For a guide to updating your code to use the new functions, please see\n",
      "https://gist.github.com/mwaskom/de44147ed2974457ad6372750bbe5751\n",
      "\n",
      "  sns.distplot(data.stories,kde=True,bins=15)\n",
      "C:\\Users\\harshavardhan\\AppData\\Local\\Programs\\Python\\Python310\\lib\\site-packages\\seaborn\\_oldcore.py:1498: FutureWarning: is_categorical_dtype is deprecated and will be removed in a future version. Use isinstance(dtype, CategoricalDtype) instead\n",
      "  if pd.api.types.is_categorical_dtype(vector):\n",
      "C:\\Users\\harshavardhan\\AppData\\Local\\Programs\\Python\\Python310\\lib\\site-packages\\seaborn\\_oldcore.py:1119: FutureWarning: use_inf_as_na option is deprecated and will be removed in a future version. Convert inf values to NaN before operating instead.\n",
      "  with pd.option_context('mode.use_inf_as_na', True):\n"
     ]
    },
    {
     "data": {
      "text/plain": [
       "<Axes: xlabel='stories', ylabel='Density'>"
      ]
     },
     "execution_count": 32,
     "metadata": {},
     "output_type": "execute_result"
    },
    {
     "data": {
      "image/png": "[encoded data removed]",
      "text/plain": [
       "<Figure size 640x480 with 1 Axes>"
      ]
     },
     "metadata": {},
     "output_type": "display_data"
    }
   ],
   "source": [
    "sns.distplot(data.stories,kde=True,bins=15)\n"
   ]
  },
  {
   "cell_type": "code",
   "execution_count": 33,
   "id": "bfb886d9",
   "metadata": {},
   "outputs": [
    {
     "name": "stderr",
     "output_type": "stream",
     "text": [
      "C:\\Users\\harshavardhan\\AppData\\Local\\Temp\\ipykernel_1280\\4158358682.py:1: UserWarning: \n",
      "\n",
      "`distplot` is a deprecated function and will be removed in seaborn v0.14.0.\n",
      "\n",
      "Please adapt your code to use either `displot` (a figure-level function with\n",
      "similar flexibility) or `histplot` (an axes-level function for histograms).\n",
      "\n",
      "For a guide to updating your code to use the new functions, please see\n",
      "https://gist.github.com/mwaskom/de44147ed2974457ad6372750bbe5751\n",
      "\n",
      "  sns.distplot(data.parking,kde=True,bins=15)\n",
      "C:\\Users\\harshavardhan\\AppData\\Local\\Programs\\Python\\Python310\\lib\\site-packages\\seaborn\\_oldcore.py:1498: FutureWarning: is_categorical_dtype is deprecated and will be removed in a future version. Use isinstance(dtype, CategoricalDtype) instead\n",
      "  if pd.api.types.is_categorical_dtype(vector):\n",
      "C:\\Users\\harshavardhan\\AppData\\Local\\Programs\\Python\\Python310\\lib\\site-packages\\seaborn\\_oldcore.py:1119: FutureWarning: use_inf_as_na option is deprecated and will be removed in a future version. Convert inf values to NaN before operating instead.\n",
      "  with pd.option_context('mode.use_inf_as_na', True):\n"
     ]
    },
    {
     "data": {
      "text/plain": [
       "<Axes: xlabel='parking', ylabel='Density'>"
      ]
     },
     "execution_count": 33,
     "metadata": {},
     "output_type": "execute_result"
    },
    {
     "data": {
      "image/png": "[encoded data removed]",
      "text/plain": [
       "<Figure size 640x480 with 1 Axes>"
      ]
     },
     "metadata": {},
     "output_type": "display_data"
    }
   ],
   "source": [
    "sns.distplot(data.parking,kde=True,bins=15)\n"
   ]
  },
  {
   "cell_type": "code",
   "execution_count": null,
   "id": "69a4ebb2",
   "metadata": {},
   "outputs": [],
   "source": []
  },
  {
   "cell_type": "code",
   "execution_count": 34,
   "id": "39fdf359",
   "metadata": {},
   "outputs": [
    {
     "data": {
      "text/plain": [
       "(array([ 61., 163., 139.,  89.,  46.,  25.,  13.,   4.,   1.,   4.]),\n",
       " array([ 1750000.,  2905000.,  4060000.,  5215000.,  6370000.,  7525000.,\n",
       "         8680000.,  9835000., 10990000., 12145000., 13300000.]),\n",
       " <BarContainer object of 10 artists>)"
      ]
     },
     "execution_count": 34,
     "metadata": {},
     "output_type": "execute_result"
    },
    {
     "data": {
      "image/png": "[encoded data removed]",
      "text/plain": [
       "<Figure size 432x288 with 1 Axes>"
      ]
     },
     "metadata": {
      "needs_background": "light"
     },
     "output_type": "display_data"
    }
   ],
   "source": [
    "#histogram\n",
    "\n",
    "plt.hist(data.price)"
   ]
  },
  {
   "cell_type": "code",
   "execution_count": 35,
   "id": "812cc7c8",
   "metadata": {},
   "outputs": [
    {
     "data": {
      "text/plain": [
       "(array([ 73., 198., 117.,  88.,  39.,  15.,   8.,   5.,   0.,   2.]),\n",
       " array([ 1650.,  3105.,  4560.,  6015.,  7470.,  8925., 10380., 11835.,\n",
       "        13290., 14745., 16200.]),\n",
       " <BarContainer object of 10 artists>)"
      ]
     },
     "execution_count": 35,
     "metadata": {},
     "output_type": "execute_result"
    },
    {
     "data": {
      "image/png": "[encoded data removed]",
      "text/plain": [
       "<Figure size 432x288 with 1 Axes>"
      ]
     },
     "metadata": {
      "needs_background": "light"
     },
     "output_type": "display_data"
    }
   ],
   "source": [
    "plt.hist(data.area)"
   ]
  },
  {
   "cell_type": "code",
   "execution_count": 36,
   "id": "f72b4eb9",
   "metadata": {},
   "outputs": [
    {
     "data": {
      "text/plain": [
       "(array([  2.,   0., 136.,   5., 297.,   0.,  93.,   0.,  10.,   2.]),\n",
       " array([1. , 1.5, 2. , 2.5, 3. , 3.5, 4. , 4.5, 5. , 5.5, 6. ]),\n",
       " <BarContainer object of 10 artists>)"
      ]
     },
     "execution_count": 36,
     "metadata": {},
     "output_type": "execute_result"
    },
    {
     "data": {
      "image/png": "[encoded data removed]",
      "text/plain": [
       "<Figure size 432x288 with 1 Axes>"
      ]
     },
     "metadata": {
      "needs_background": "light"
     },
     "output_type": "display_data"
    }
   ],
   "source": [
    "plt.hist(data.bedrooms)"
   ]
  },
  {
   "cell_type": "code",
   "execution_count": 37,
   "id": "c0f8d961",
   "metadata": {},
   "outputs": [
    {
     "data": {
      "text/plain": [
       "(array([403.,   0.,   0., 131.,   0.,   0.,  10.,   0.,   0.,   1.]),\n",
       " array([1. , 1.3, 1.6, 1.9, 2.2, 2.5, 2.8, 3.1, 3.4, 3.7, 4. ]),\n",
       " <BarContainer object of 10 artists>)"
      ]
     },
     "execution_count": 37,
     "metadata": {},
     "output_type": "execute_result"
    },
    {
     "data": {
      "image/png": "[encoded data removed]",
      "text/plain": [
       "<Figure size 432x288 with 1 Axes>"
      ]
     },
     "metadata": {
      "needs_background": "light"
     },
     "output_type": "display_data"
    }
   ],
   "source": [
    "plt.hist(data.bathrooms)"
   ]
  },
  {
   "cell_type": "code",
   "execution_count": 38,
   "id": "3f3645f8",
   "metadata": {},
   "outputs": [
    {
     "data": {
      "text/plain": [
       "(array([227.,   0.,   2., 236.,   0.,   0.,  39.,   0.,   0.,  41.]),\n",
       " array([1. , 1.3, 1.6, 1.9, 2.2, 2.5, 2.8, 3.1, 3.4, 3.7, 4. ]),\n",
       " <BarContainer object of 10 artists>)"
      ]
     },
     "execution_count": 38,
     "metadata": {},
     "output_type": "execute_result"
    },
    {
     "data": {
      "image/png": "[encoded data removed]",
      "text/plain": [
       "<Figure size 432x288 with 1 Axes>"
      ]
     },
     "metadata": {
      "needs_background": "light"
     },
     "output_type": "display_data"
    }
   ],
   "source": [
    "plt.hist(data.stories)"
   ]
  },
  {
   "cell_type": "code",
   "execution_count": 39,
   "id": "3bdb320c",
   "metadata": {},
   "outputs": [
    {
     "data": {
      "text/plain": [
       "(array([297.,   0.,   4., 126.,   0.,   0., 106.,   0.,   0.,  12.]),\n",
       " array([0. , 0.3, 0.6, 0.9, 1.2, 1.5, 1.8, 2.1, 2.4, 2.7, 3. ]),\n",
       " <BarContainer object of 10 artists>)"
      ]
     },
     "execution_count": 39,
     "metadata": {},
     "output_type": "execute_result"
    },
    {
     "data": {
      "image/png": "[encoded data removed]",
      "text/plain": [
       "<Figure size 432x288 with 1 Axes>"
      ]
     },
     "metadata": {
      "needs_background": "light"
     },
     "output_type": "display_data"
    }
   ],
   "source": [
    "plt.hist(data.parking)"
   ]
  },
  {
   "cell_type": "code",
   "execution_count": 40,
   "id": "475aa0fe",
   "metadata": {},
   "outputs": [
    {
     "data": {
      "text/plain": [
       "{'whiskers': [<matplotlib.lines.Line2D at 0x7f178af36af0>,\n",
       "  <matplotlib.lines.Line2D at 0x7f178af36d90>],\n",
       " 'caps': [<matplotlib.lines.Line2D at 0x7f178af36fa0>,\n",
       "  <matplotlib.lines.Line2D at 0x7f178af46280>],\n",
       " 'boxes': [<matplotlib.lines.Line2D at 0x7f178af36850>],\n",
       " 'medians': [<matplotlib.lines.Line2D at 0x7f178af46520>],\n",
       " 'fliers': [<matplotlib.lines.Line2D at 0x7f178af467c0>],\n",
       " 'means': []}"
      ]
     },
     "execution_count": 40,
     "metadata": {},
     "output_type": "execute_result"
    },
    {
     "data": {
      "image/png": "[encoded data removed]",
      "text/plain": [
       "<Figure size 432x288 with 1 Axes>"
      ]
     },
     "metadata": {
      "needs_background": "light"
     },
     "output_type": "display_data"
    }
   ],
   "source": [
    "plt.boxplot(data.price)\n"
   ]
  },
  {
   "cell_type": "code",
   "execution_count": 41,
   "id": "c8b7a9b2",
   "metadata": {},
   "outputs": [
    {
     "data": {
      "text/plain": [
       "{'whiskers': [<matplotlib.lines.Line2D at 0x7f178aeaf130>,\n",
       "  <matplotlib.lines.Line2D at 0x7f178aeaf3d0>],\n",
       " 'caps': [<matplotlib.lines.Line2D at 0x7f178aeaf670>,\n",
       "  <matplotlib.lines.Line2D at 0x7f178aeaf910>],\n",
       " 'boxes': [<matplotlib.lines.Line2D at 0x7f178af1de50>],\n",
       " 'medians': [<matplotlib.lines.Line2D at 0x7f178aeafbb0>],\n",
       " 'fliers': [<matplotlib.lines.Line2D at 0x7f178aeafe50>],\n",
       " 'means': []}"
      ]
     },
     "execution_count": 41,
     "metadata": {},
     "output_type": "execute_result"
    },
    {
     "data": {
      "image/png": "[encoded data removed]",
      "text/plain": [
       "<Figure size 432x288 with 1 Axes>"
      ]
     },
     "metadata": {
      "needs_background": "light"
     },
     "output_type": "display_data"
    }
   ],
   "source": [
    "plt.boxplot(data.area)"
   ]
  },
  {
   "cell_type": "code",
   "execution_count": 42,
   "id": "398dba65",
   "metadata": {},
   "outputs": [
    {
     "data": {
      "text/plain": [
       "{'whiskers': [<matplotlib.lines.Line2D at 0x7f178ae27160>,\n",
       "  <matplotlib.lines.Line2D at 0x7f178ae27400>],\n",
       " 'caps': [<matplotlib.lines.Line2D at 0x7f178ae276a0>,\n",
       "  <matplotlib.lines.Line2D at 0x7f178ae27940>],\n",
       " 'boxes': [<matplotlib.lines.Line2D at 0x7f178ae96e80>],\n",
       " 'medians': [<matplotlib.lines.Line2D at 0x7f178ae27be0>],\n",
       " 'fliers': [<matplotlib.lines.Line2D at 0x7f178ae27e80>],\n",
       " 'means': []}"
      ]
     },
     "execution_count": 42,
     "metadata": {},
     "output_type": "execute_result"
    },
    {
     "data": {
      "image/png": "[encoded data removed]",
      "text/plain": [
       "<Figure size 432x288 with 1 Axes>"
      ]
     },
     "metadata": {
      "needs_background": "light"
     },
     "output_type": "display_data"
    }
   ],
   "source": [
    "plt.boxplot(data.bathrooms)"
   ]
  },
  {
   "cell_type": "code",
   "execution_count": 43,
   "id": "2f87ce21",
   "metadata": {},
   "outputs": [
    {
     "data": {
      "text/plain": [
       "{'whiskers': [<matplotlib.lines.Line2D at 0x7f178ae128e0>,\n",
       "  <matplotlib.lines.Line2D at 0x7f178ae12b80>],\n",
       " 'caps': [<matplotlib.lines.Line2D at 0x7f178ae12e20>,\n",
       "  <matplotlib.lines.Line2D at 0x7f178ada3100>],\n",
       " 'boxes': [<matplotlib.lines.Line2D at 0x7f178ae12640>],\n",
       " 'medians': [<matplotlib.lines.Line2D at 0x7f178ada33a0>],\n",
       " 'fliers': [<matplotlib.lines.Line2D at 0x7f178ada3640>],\n",
       " 'means': []}"
      ]
     },
     "execution_count": 43,
     "metadata": {},
     "output_type": "execute_result"
    },
    {
     "data": {
      "image/png": "[encoded data removed]",
      "text/plain": [
       "<Figure size 432x288 with 1 Axes>"
      ]
     },
     "metadata": {
      "needs_background": "light"
     },
     "output_type": "display_data"
    }
   ],
   "source": [
    "plt.boxplot(data.bedrooms)"
   ]
  },
  {
   "cell_type": "code",
   "execution_count": 44,
   "id": "62d6ffd3",
   "metadata": {},
   "outputs": [
    {
     "data": {
      "text/plain": [
       "{'whiskers': [<matplotlib.lines.Line2D at 0x7f178ad84640>,\n",
       "  <matplotlib.lines.Line2D at 0x7f178ad848e0>],\n",
       " 'caps': [<matplotlib.lines.Line2D at 0x7f178ad84b80>,\n",
       "  <matplotlib.lines.Line2D at 0x7f178ad84e20>],\n",
       " 'boxes': [<matplotlib.lines.Line2D at 0x7f178ad844c0>],\n",
       " 'medians': [<matplotlib.lines.Line2D at 0x7f178ad94100>],\n",
       " 'fliers': [<matplotlib.lines.Line2D at 0x7f178ad943a0>],\n",
       " 'means': []}"
      ]
     },
     "execution_count": 44,
     "metadata": {},
     "output_type": "execute_result"
    },
    {
     "data": {
      "image/png": "[encoded data removed]",
      "text/plain": [
       "<Figure size 432x288 with 1 Axes>"
      ]
     },
     "metadata": {
      "needs_background": "light"
     },
     "output_type": "display_data"
    }
   ],
   "source": [
    "plt.boxplot(data.stories)"
   ]
  },
  {
   "cell_type": "code",
   "execution_count": 45,
   "id": "727ec34b",
   "metadata": {},
   "outputs": [
    {
     "data": {
      "text/plain": [
       "{'whiskers': [<matplotlib.lines.Line2D at 0x7f178acf0d00>,\n",
       "  <matplotlib.lines.Line2D at 0x7f178acf0e80>],\n",
       " 'caps': [<matplotlib.lines.Line2D at 0x7f178ad03100>,\n",
       "  <matplotlib.lines.Line2D at 0x7f178ad03310>],\n",
       " 'boxes': [<matplotlib.lines.Line2D at 0x7f178acf0b20>],\n",
       " 'medians': [<matplotlib.lines.Line2D at 0x7f178ad035b0>],\n",
       " 'fliers': [<matplotlib.lines.Line2D at 0x7f178ad03850>],\n",
       " 'means': []}"
      ]
     },
     "execution_count": 45,
     "metadata": {},
     "output_type": "execute_result"
    },
    {
     "data": {
      "image/png": "[encoded data removed]",
      "text/plain": [
       "<Figure size 432x288 with 1 Axes>"
      ]
     },
     "metadata": {
      "needs_background": "light"
     },
     "output_type": "display_data"
    }
   ],
   "source": [
    "plt.boxplot(data.parking)"
   ]
  },
  {
   "cell_type": "code",
   "execution_count": null,
   "id": "cad19c96",
   "metadata": {},
   "outputs": [],
   "source": []
  },
  {
   "cell_type": "code",
   "execution_count": 46,
   "id": "687c3730",
   "metadata": {},
   "outputs": [
    {
     "data": {
      "text/plain": [
       "<AxesSubplot: >"
      ]
     },
     "execution_count": 46,
     "metadata": {},
     "output_type": "execute_result"
    },
    {
     "data": {
      "image/png": "[encoded data removed]",
      "text/plain": [
       "<Figure size 432x288 with 1 Axes>"
      ]
     },
     "metadata": {
      "needs_background": "light"
     },
     "output_type": "display_data"
    }
   ],
   "source": [
    "sns.boxplot(data)"
   ]
  },
  {
   "cell_type": "code",
   "execution_count": null,
   "id": "0cbfdc99",
   "metadata": {},
   "outputs": [],
   "source": []
  },
  {
   "cell_type": "code",
   "execution_count": null,
   "id": "6cf0050b",
   "metadata": {},
   "outputs": [],
   "source": []
  },
  {
   "cell_type": "code",
   "execution_count": 47,
   "id": "7392c024",
   "metadata": {},
   "outputs": [
    {
     "data": {
      "image/png": "[encoded data removed]",
      "text/plain": [
       "<Figure size 432x288 with 1 Axes>"
      ]
     },
     "metadata": {
      "needs_background": "light"
     },
     "output_type": "display_data"
    }
   ],
   "source": [
    "plt.bar(data.area,data.price)\n",
    "plt.xlabel(\"area\")\n",
    "plt.ylabel(\"price\")\n",
    "plt.show()"
   ]
  },
  {
   "cell_type": "code",
   "execution_count": 48,
   "id": "a1f5dd79",
   "metadata": {},
   "outputs": [
    {
     "data": {
      "image/png": "[encoded data removed]",
      "text/plain": [
       "<Figure size 432x288 with 1 Axes>"
      ]
     },
     "metadata": {
      "needs_background": "light"
     },
     "output_type": "display_data"
    }
   ],
   "source": [
    "plt.bar(data.bedrooms,data.price)\n",
    "plt.xlabel(\"bedrooms\")\n",
    "plt.ylabel(\"price\")\n",
    "plt.show()"
   ]
  },
  {
   "cell_type": "code",
   "execution_count": 49,
   "id": "69f167ec",
   "metadata": {},
   "outputs": [
    {
     "data": {
      "image/png": "[encoded data removed]",
      "text/plain": [
       "<Figure size 432x288 with 1 Axes>"
      ]
     },
     "metadata": {
      "needs_background": "light"
     },
     "output_type": "display_data"
    }
   ],
   "source": [
    "plt.bar(data.bathrooms,data.price)\n",
    "plt.xlabel(\"bathrooms\")\n",
    "plt.ylabel(\"price\")\n",
    "plt.show()"
   ]
  },
  {
   "cell_type": "code",
   "execution_count": 50,
   "id": "ae984f9b",
   "metadata": {},
   "outputs": [
    {
     "data": {
      "image/png": "[encoded data removed]",
      "text/plain": [
       "<Figure size 432x288 with 1 Axes>"
      ]
     },
     "metadata": {
      "needs_background": "light"
     },
     "output_type": "display_data"
    }
   ],
   "source": [
    "plt.bar(data.stories,data.price)\n",
    "plt.xlabel(\"stories\")\n",
    "plt.ylabel(\"price\")\n",
    "plt.show()"
   ]
  },
  {
   "cell_type": "code",
   "execution_count": 51,
   "id": "936f5f1f",
   "metadata": {},
   "outputs": [
    {
     "data": {
      "image/png": "[encoded data removed]",
      "text/plain": [
       "<Figure size 432x288 with 1 Axes>"
      ]
     },
     "metadata": {
      "needs_background": "light"
     },
     "output_type": "display_data"
    }
   ],
   "source": [
    "plt.bar(data.parking,data.price)\n",
    "plt.xlabel(\"parking\")\n",
    "plt.ylabel(\"price\")\n",
    "plt.show()"
   ]
  },
  {
   "cell_type": "code",
   "execution_count": null,
   "id": "7f3edde0",
   "metadata": {},
   "outputs": [],
   "source": []
  },
  {
   "cell_type": "code",
   "execution_count": 52,
   "id": "3cea6051",
   "metadata": {},
   "outputs": [],
   "source": [
    "exp_vals=[1400,600,300,410,250,300]\n",
    "\n",
    "exp_labels=[\"price\",\"area\",\"bedrooms\",\"bathrooms\",\"stories\",\"parking\"]"
   ]
  },
  {
   "cell_type": "code",
   "execution_count": 53,
   "id": "61743e87",
   "metadata": {},
   "outputs": [
    {
     "data": {
      "image/png": "[encoded data removed]",
      "text/plain": [
       "<Figure size 432x288 with 1 Axes>"
      ]
     },
     "metadata": {},
     "output_type": "display_data"
    }
   ],
   "source": [
    "plt.pie(exp_vals,labels=exp_labels,autopct=\"%0.1f%%\")\n",
    "plt.show()"
   ]
  },
  {
   "cell_type": "code",
   "execution_count": null,
   "id": "8c8c369e",
   "metadata": {},
   "outputs": [],
   "source": []
  },
  {
   "cell_type": "code",
   "execution_count": 54,
   "id": "1942f3b6",
   "metadata": {},
   "outputs": [
    {
     "data": {
      "text/html": [
       "<div>\n",
       "<style scoped>\n",
       "    .dataframe tbody tr th:only-of-type {\n",
       "        vertical-align: middle;\n",
       "    }\n",
       "\n",
       "    .dataframe tbody tr th {\n",
       "        vertical-align: top;\n",
       "    }\n",
       "\n",
       "    .dataframe thead th {\n",
       "        text-align: right;\n",
       "    }\n",
       "</style>\n",
       "<table border=\"1\" class=\"dataframe\">\n",
       "  <thead>\n",
       "    <tr style=\"text-align: right;\">\n",
       "      <th></th>\n",
       "      <th>price</th>\n",
       "      <th>area</th>\n",
       "      <th>bedrooms</th>\n",
       "      <th>bathrooms</th>\n",
       "      <th>stories</th>\n",
       "      <th>mainroad</th>\n",
       "      <th>guestroom</th>\n",
       "      <th>basement</th>\n",
       "      <th>hotwaterheating</th>\n",
       "      <th>airconditioning</th>\n",
       "      <th>parking</th>\n",
       "      <th>prefarea</th>\n",
       "      <th>furnishingstatus</th>\n",
       "    </tr>\n",
       "  </thead>\n",
       "  <tbody>\n",
       "    <tr>\n",
       "      <th>0</th>\n",
       "      <td>13300000</td>\n",
       "      <td>7420</td>\n",
       "      <td>4.0</td>\n",
       "      <td>2.0</td>\n",
       "      <td>3.0</td>\n",
       "      <td>1</td>\n",
       "      <td>0</td>\n",
       "      <td>0</td>\n",
       "      <td>0</td>\n",
       "      <td>1</td>\n",
       "      <td>2.0</td>\n",
       "      <td>1</td>\n",
       "      <td>2</td>\n",
       "    </tr>\n",
       "    <tr>\n",
       "      <th>1</th>\n",
       "      <td>12250000</td>\n",
       "      <td>8960</td>\n",
       "      <td>4.0</td>\n",
       "      <td>4.0</td>\n",
       "      <td>4.0</td>\n",
       "      <td>1</td>\n",
       "      <td>0</td>\n",
       "      <td>0</td>\n",
       "      <td>0</td>\n",
       "      <td>1</td>\n",
       "      <td>3.0</td>\n",
       "      <td>0</td>\n",
       "      <td>2</td>\n",
       "    </tr>\n",
       "    <tr>\n",
       "      <th>2</th>\n",
       "      <td>12250000</td>\n",
       "      <td>9960</td>\n",
       "      <td>3.0</td>\n",
       "      <td>2.0</td>\n",
       "      <td>2.0</td>\n",
       "      <td>1</td>\n",
       "      <td>0</td>\n",
       "      <td>1</td>\n",
       "      <td>0</td>\n",
       "      <td>0</td>\n",
       "      <td>2.0</td>\n",
       "      <td>1</td>\n",
       "      <td>1</td>\n",
       "    </tr>\n",
       "    <tr>\n",
       "      <th>3</th>\n",
       "      <td>12215000</td>\n",
       "      <td>7500</td>\n",
       "      <td>4.0</td>\n",
       "      <td>2.0</td>\n",
       "      <td>2.0</td>\n",
       "      <td>1</td>\n",
       "      <td>0</td>\n",
       "      <td>1</td>\n",
       "      <td>0</td>\n",
       "      <td>1</td>\n",
       "      <td>3.0</td>\n",
       "      <td>1</td>\n",
       "      <td>2</td>\n",
       "    </tr>\n",
       "    <tr>\n",
       "      <th>4</th>\n",
       "      <td>11410000</td>\n",
       "      <td>7420</td>\n",
       "      <td>4.0</td>\n",
       "      <td>1.0</td>\n",
       "      <td>2.0</td>\n",
       "      <td>1</td>\n",
       "      <td>1</td>\n",
       "      <td>1</td>\n",
       "      <td>0</td>\n",
       "      <td>1</td>\n",
       "      <td>2.0</td>\n",
       "      <td>0</td>\n",
       "      <td>2</td>\n",
       "    </tr>\n",
       "    <tr>\n",
       "      <th>...</th>\n",
       "      <td>...</td>\n",
       "      <td>...</td>\n",
       "      <td>...</td>\n",
       "      <td>...</td>\n",
       "      <td>...</td>\n",
       "      <td>...</td>\n",
       "      <td>...</td>\n",
       "      <td>...</td>\n",
       "      <td>...</td>\n",
       "      <td>...</td>\n",
       "      <td>...</td>\n",
       "      <td>...</td>\n",
       "      <td>...</td>\n",
       "    </tr>\n",
       "    <tr>\n",
       "      <th>540</th>\n",
       "      <td>1820000</td>\n",
       "      <td>3000</td>\n",
       "      <td>2.0</td>\n",
       "      <td>1.0</td>\n",
       "      <td>1.0</td>\n",
       "      <td>1</td>\n",
       "      <td>0</td>\n",
       "      <td>1</td>\n",
       "      <td>0</td>\n",
       "      <td>0</td>\n",
       "      <td>2.0</td>\n",
       "      <td>0</td>\n",
       "      <td>0</td>\n",
       "    </tr>\n",
       "    <tr>\n",
       "      <th>541</th>\n",
       "      <td>1767150</td>\n",
       "      <td>2400</td>\n",
       "      <td>3.0</td>\n",
       "      <td>1.0</td>\n",
       "      <td>1.0</td>\n",
       "      <td>0</td>\n",
       "      <td>0</td>\n",
       "      <td>0</td>\n",
       "      <td>0</td>\n",
       "      <td>0</td>\n",
       "      <td>0.0</td>\n",
       "      <td>0</td>\n",
       "      <td>1</td>\n",
       "    </tr>\n",
       "    <tr>\n",
       "      <th>542</th>\n",
       "      <td>1750000</td>\n",
       "      <td>3620</td>\n",
       "      <td>2.0</td>\n",
       "      <td>1.0</td>\n",
       "      <td>1.0</td>\n",
       "      <td>1</td>\n",
       "      <td>0</td>\n",
       "      <td>0</td>\n",
       "      <td>0</td>\n",
       "      <td>0</td>\n",
       "      <td>0.0</td>\n",
       "      <td>0</td>\n",
       "      <td>0</td>\n",
       "    </tr>\n",
       "    <tr>\n",
       "      <th>543</th>\n",
       "      <td>1750000</td>\n",
       "      <td>2910</td>\n",
       "      <td>3.0</td>\n",
       "      <td>1.0</td>\n",
       "      <td>1.0</td>\n",
       "      <td>0</td>\n",
       "      <td>0</td>\n",
       "      <td>0</td>\n",
       "      <td>0</td>\n",
       "      <td>0</td>\n",
       "      <td>0.0</td>\n",
       "      <td>0</td>\n",
       "      <td>2</td>\n",
       "    </tr>\n",
       "    <tr>\n",
       "      <th>544</th>\n",
       "      <td>1750000</td>\n",
       "      <td>3850</td>\n",
       "      <td>3.0</td>\n",
       "      <td>1.0</td>\n",
       "      <td>2.0</td>\n",
       "      <td>1</td>\n",
       "      <td>0</td>\n",
       "      <td>0</td>\n",
       "      <td>0</td>\n",
       "      <td>0</td>\n",
       "      <td>0.0</td>\n",
       "      <td>0</td>\n",
       "      <td>0</td>\n",
       "    </tr>\n",
       "  </tbody>\n",
       "</table>\n",
       "<p>545 rows × 13 columns</p>\n",
       "</div>"
      ],
      "text/plain": [
       "        price  area  bedrooms  bathrooms  stories  mainroad  guestroom  \\\n",
       "0    13300000  7420       4.0        2.0      3.0         1          0   \n",
       "1    12250000  8960       4.0        4.0      4.0         1          0   \n",
       "2    12250000  9960       3.0        2.0      2.0         1          0   \n",
       "3    12215000  7500       4.0        2.0      2.0         1          0   \n",
       "4    11410000  7420       4.0        1.0      2.0         1          1   \n",
       "..        ...   ...       ...        ...      ...       ...        ...   \n",
       "540   1820000  3000       2.0        1.0      1.0         1          0   \n",
       "541   1767150  2400       3.0        1.0      1.0         0          0   \n",
       "542   1750000  3620       2.0        1.0      1.0         1          0   \n",
       "543   1750000  2910       3.0        1.0      1.0         0          0   \n",
       "544   1750000  3850       3.0        1.0      2.0         1          0   \n",
       "\n",
       "     basement  hotwaterheating  airconditioning  parking  prefarea  \\\n",
       "0           0                0                1      2.0         1   \n",
       "1           0                0                1      3.0         0   \n",
       "2           1                0                0      2.0         1   \n",
       "3           1                0                1      3.0         1   \n",
       "4           1                0                1      2.0         0   \n",
       "..        ...              ...              ...      ...       ...   \n",
       "540         1                0                0      2.0         0   \n",
       "541         0                0                0      0.0         0   \n",
       "542         0                0                0      0.0         0   \n",
       "543         0                0                0      0.0         0   \n",
       "544         0                0                0      0.0         0   \n",
       "\n",
       "     furnishingstatus  \n",
       "0                   2  \n",
       "1                   2  \n",
       "2                   1  \n",
       "3                   2  \n",
       "4                   2  \n",
       "..                ...  \n",
       "540                 0  \n",
       "541                 1  \n",
       "542                 0  \n",
       "543                 2  \n",
       "544                 0  \n",
       "\n",
       "[545 rows x 13 columns]"
      ]
     },
     "execution_count": 54,
     "metadata": {},
     "output_type": "execute_result"
    }
   ],
   "source": [
    "\n",
    "data[\"mainroad\"] = data[\"mainroad\"].map({\"no\":0, \"yes\":1})\n",
    "data[\"guestroom\"] = data[\"guestroom\"].map({\"no\":0, \"yes\":1})\n",
    "data[\"basement\"] = data[\"basement\"].map({\"no\":0, \"yes\":1})\n",
    "data[\"hotwaterheating\"] = data[\"hotwaterheating\"].map({\"no\":0, \"yes\":1})\n",
    "data[\"airconditioning\"] = data[\"airconditioning\"].map({\"no\":0, \"yes\":1})\n",
    "data[\"prefarea\"] = data[\"prefarea\"].map({\"no\":0, \"yes\":1})\n",
    "data[\"furnishingstatus\"] = data[\"furnishingstatus\"].map({\"unfurnished\":0, \"semi-furnished\":1, \"furnished\":2})\n",
    "data"
   ]
  },
  {
   "cell_type": "code",
   "execution_count": 55,
   "id": "f52eb0ee",
   "metadata": {},
   "outputs": [
    {
     "data": {
      "text/plain": [
       "<AxesSubplot: >"
      ]
     },
     "execution_count": 55,
     "metadata": {},
     "output_type": "execute_result"
    },
    {
     "data": {
      "image/png": "[encoded data removed]",
      "text/plain": [
       "<Figure size 432x288 with 2 Axes>"
      ]
     },
     "metadata": {
      "needs_background": "light"
     },
     "output_type": "display_data"
    }
   ],
   "source": [
    "corr_matrix=data.corr()\n",
    "sns.heatmap(corr_matrix)"
   ]
  },
  {
   "cell_type": "code",
   "execution_count": 56,
   "id": "5dc3af32",
   "metadata": {},
   "outputs": [
    {
     "data": {
      "text/plain": [
       "<AxesSubplot: >"
      ]
     },
     "execution_count": 56,
     "metadata": {},
     "output_type": "execute_result"
    },
    {
     "data": {
      "image/png": "[encoded data removed]",
      "text/plain": [
       "<Figure size 432x288 with 2 Axes>"
      ]
     },
     "metadata": {
      "needs_background": "light"
     },
     "output_type": "display_data"
    }
   ],
   "source": [
    "sns.heatmap(corr_matrix,annot=True,fmt=\".1f\")"
   ]
  },
  {
   "cell_type": "code",
   "execution_count": 57,
   "id": "7161b67d",
   "metadata": {},
   "outputs": [],
   "source": [
    "import sklearn.model_selection\n",
    "from sklearn.model_selection import train_test_split"
   ]
  },
  {
   "cell_type": "code",
   "execution_count": 92,
   "id": "3bc63d6b",
   "metadata": {},
   "outputs": [
    {
     "name": "stdout",
     "output_type": "stream",
     "text": [
      "(408, 1)\n",
      "     area\n",
      "328  4500\n",
      "324  4500\n",
      "496  4000\n",
      "465  3800\n",
      "263  3968\n",
      "..    ...\n",
      "168  4260\n",
      "246  3520\n",
      "339  3180\n",
      "72   5020\n",
      "501  2430\n",
      "\n",
      "[408 rows x 1 columns]\n"
     ]
    }
   ],
   "source": [
    "\n",
    "x=data[[\"area\"]]\n",
    "y=data[[\"price\"]]\n",
    "x_train, x_test, y_train, y_test=train_test_split(x,y,train_size=0.75)\n",
    "print(x_train.shape)\n",
    "print(x_train)"
   ]
  },
  {
   "cell_type": "code",
   "execution_count": 93,
   "id": "5f0c5532",
   "metadata": {},
   "outputs": [
    {
     "name": "stdout",
     "output_type": "stream",
     "text": [
      "(137, 1)\n",
      "     area\n",
      "19   6420\n",
      "92   4800\n",
      "240  3840\n",
      "113  9620\n",
      "76   6420\n",
      "..    ...\n",
      "485  3630\n",
      "417  3640\n",
      "208  2970\n",
      "325  3460\n",
      "78   5700\n",
      "\n",
      "[137 rows x 1 columns]\n"
     ]
    }
   ],
   "source": [
    "print(x_test.shape)\n",
    "print(x_test)"
   ]
  },
  {
   "cell_type": "code",
   "execution_count": 94,
   "id": "29298576",
   "metadata": {},
   "outputs": [
    {
     "name": "stdout",
     "output_type": "stream",
     "text": [
      "(408, 1)\n",
      "       price\n",
      "328  3990000\n",
      "324  4007500\n",
      "496  2695000\n",
      "465  3045000\n",
      "263  4410000\n",
      "..       ...\n",
      "168  5250000\n",
      "246  4550000\n",
      "339  3885000\n",
      "72   6720000\n",
      "501  2660000\n",
      "\n",
      "[408 rows x 1 columns]\n"
     ]
    }
   ],
   "source": [
    "print(y_train.shape)\n",
    "print(y_train)"
   ]
  },
  {
   "cell_type": "code",
   "execution_count": 95,
   "id": "db0eaa3f",
   "metadata": {},
   "outputs": [
    {
     "name": "stdout",
     "output_type": "stream",
     "text": [
      "(137, 1)\n",
      "       price\n",
      "19   8855000\n",
      "92   6405000\n",
      "240  4585000\n",
      "113  6083000\n",
      "76   6650000\n",
      "..       ...\n",
      "485  2870000\n",
      "417  3395000\n",
      "208  4900000\n",
      "325  4007500\n",
      "78   6650000\n",
      "\n",
      "[137 rows x 1 columns]\n"
     ]
    }
   ],
   "source": [
    "print(y_test.shape)\n",
    "print(y_test)"
   ]
  },
  {
   "cell_type": "code",
   "execution_count": 96,
   "id": "7a2c5358",
   "metadata": {},
   "outputs": [],
   "source": [
    "x = x_train.values\n",
    "y = y_train.values"
   ]
  },
  {
   "cell_type": "markdown",
   "id": "663c2dc6",
   "metadata": {},
   "source": [
    "from sklearn.linear_model import LinearRegression"
   ]
  },
  {
   "cell_type": "code",
   "execution_count": 97,
   "id": "c00e241e",
   "metadata": {},
   "outputs": [],
   "source": [
    "from sklearn.linear_model import LinearRegression"
   ]
  },
  {
   "cell_type": "code",
   "execution_count": 98,
   "id": "4073fb4b",
   "metadata": {},
   "outputs": [],
   "source": [
    "reg = LinearRegression()"
   ]
  },
  {
   "cell_type": "code",
   "execution_count": 99,
   "id": "e6a690f5",
   "metadata": {},
   "outputs": [
    {
     "data": {
      "text/html": [
       "<style>#sk-container-id-4 {color: black;background-color: white;}#sk-container-id-4 pre{padding: 0;}#sk-container-id-4 div.sk-toggleable {background-color: white;}#sk-container-id-4 label.sk-toggleable__label {cursor: pointer;display: block;width: 100%;margin-bottom: 0;padding: 0.3em;box-sizing: border-box;text-align: center;}#sk-container-id-4 label.sk-toggleable__label-arrow:before {content: \"▸\";float: left;margin-right: 0.25em;color: #696969;}#sk-container-id-4 label.sk-toggleable__label-arrow:hover:before {color: black;}#sk-container-id-4 div.sk-estimator:hover label.sk-toggleable__label-arrow:before {color: black;}#sk-container-id-4 div.sk-toggleable__content {max-height: 0;max-width: 0;overflow: hidden;text-align: left;background-color: #f0f8ff;}#sk-container-id-4 div.sk-toggleable__content pre {margin: 0.2em;color: black;border-radius: 0.25em;background-color: #f0f8ff;}#sk-container-id-4 input.sk-toggleable__control:checked~div.sk-toggleable__content {max-height: 200px;max-width: 100%;overflow: auto;}#sk-container-id-4 input.sk-toggleable__control:checked~label.sk-toggleable__label-arrow:before {content: \"▾\";}#sk-container-id-4 div.sk-estimator input.sk-toggleable__control:checked~label.sk-toggleable__label {background-color: #d4ebff;}#sk-container-id-4 div.sk-label input.sk-toggleable__control:checked~label.sk-toggleable__label {background-color: #d4ebff;}#sk-container-id-4 input.sk-hidden--visually {border: 0;clip: rect(1px 1px 1px 1px);clip: rect(1px, 1px, 1px, 1px);height: 1px;margin: -1px;overflow: hidden;padding: 0;position: absolute;width: 1px;}#sk-container-id-4 div.sk-estimator {font-family: monospace;background-color: #f0f8ff;border: 1px dotted black;border-radius: 0.25em;box-sizing: border-box;margin-bottom: 0.5em;}#sk-container-id-4 div.sk-estimator:hover {background-color: #d4ebff;}#sk-container-id-4 div.sk-parallel-item::after {content: \"\";width: 100%;border-bottom: 1px solid gray;flex-grow: 1;}#sk-container-id-4 div.sk-label:hover label.sk-toggleable__label {background-color: #d4ebff;}#sk-container-id-4 div.sk-serial::before {content: \"\";position: absolute;border-left: 1px solid gray;box-sizing: border-box;top: 0;bottom: 0;left: 50%;z-index: 0;}#sk-container-id-4 div.sk-serial {display: flex;flex-direction: column;align-items: center;background-color: white;padding-right: 0.2em;padding-left: 0.2em;position: relative;}#sk-container-id-4 div.sk-item {position: relative;z-index: 1;}#sk-container-id-4 div.sk-parallel {display: flex;align-items: stretch;justify-content: center;background-color: white;position: relative;}#sk-container-id-4 div.sk-item::before, #sk-container-id-4 div.sk-parallel-item::before {content: \"\";position: absolute;border-left: 1px solid gray;box-sizing: border-box;top: 0;bottom: 0;left: 50%;z-index: -1;}#sk-container-id-4 div.sk-parallel-item {display: flex;flex-direction: column;z-index: 1;position: relative;background-color: white;}#sk-container-id-4 div.sk-parallel-item:first-child::after {align-self: flex-end;width: 50%;}#sk-container-id-4 div.sk-parallel-item:last-child::after {align-self: flex-start;width: 50%;}#sk-container-id-4 div.sk-parallel-item:only-child::after {width: 0;}#sk-container-id-4 div.sk-dashed-wrapped {border: 1px dashed gray;margin: 0 0.4em 0.5em 0.4em;box-sizing: border-box;padding-bottom: 0.4em;background-color: white;}#sk-container-id-4 div.sk-label label {font-family: monospace;font-weight: bold;display: inline-block;line-height: 1.2em;}#sk-container-id-4 div.sk-label-container {text-align: center;}#sk-container-id-4 div.sk-container {/* jupyter's `normalize.less` sets `[hidden] { display: none; }` but bootstrap.min.css set `[hidden] { display: none !important; }` so we also need the `!important` here to be able to override the default hidden behavior on the sphinx rendered scikit-learn.org. See: https://github.com/scikit-learn/scikit-learn/issues/21755 */display: inline-block !important;position: relative;}#sk-container-id-4 div.sk-text-repr-fallback {display: none;}</style><div id=\"sk-container-id-4\" class=\"sk-top-container\"><div class=\"sk-text-repr-fallback\"><pre>LinearRegression()</pre><b>In a Jupyter environment, please rerun this cell to show the HTML representation or trust the notebook. <br />On GitHub, the HTML representation is unable to render, please try loading this page with nbviewer.org.</b></div><div class=\"sk-container\" hidden><div class=\"sk-item\"><div class=\"sk-estimator sk-toggleable\"><input class=\"sk-toggleable__control sk-hidden--visually\" id=\"sk-estimator-id-4\" type=\"checkbox\" checked><label for=\"sk-estimator-id-4\" class=\"sk-toggleable__label sk-toggleable__label-arrow\">LinearRegression</label><div class=\"sk-toggleable__content\"><pre>LinearRegression()</pre></div></div></div></div></div>"
      ],
      "text/plain": [
       "LinearRegression()"
      ]
     },
     "execution_count": 99,
     "metadata": {},
     "output_type": "execute_result"
    }
   ],
   "source": [
    "reg.fit(x,y)"
   ]
  },
  {
   "cell_type": "code",
   "execution_count": 100,
   "id": "f5361589",
   "metadata": {},
   "outputs": [],
   "source": [
    "#Prediction\n",
    "predicted=reg.predict(x)\n"
   ]
  },
  {
   "cell_type": "code",
   "execution_count": 101,
   "id": "d2502bcd",
   "metadata": {},
   "outputs": [
    {
     "data": {
      "text/html": [
       "<div>\n",
       "<style scoped>\n",
       "    .dataframe tbody tr th:only-of-type {\n",
       "        vertical-align: middle;\n",
       "    }\n",
       "\n",
       "    .dataframe tbody tr th {\n",
       "        vertical-align: top;\n",
       "    }\n",
       "\n",
       "    .dataframe thead th {\n",
       "        text-align: right;\n",
       "    }\n",
       "</style>\n",
       "<table border=\"1\" class=\"dataframe\">\n",
       "  <thead>\n",
       "    <tr style=\"text-align: right;\">\n",
       "      <th></th>\n",
       "      <th>price</th>\n",
       "    </tr>\n",
       "  </thead>\n",
       "  <tbody>\n",
       "    <tr>\n",
       "      <th>19</th>\n",
       "      <td>8855000</td>\n",
       "    </tr>\n",
       "    <tr>\n",
       "      <th>92</th>\n",
       "      <td>6405000</td>\n",
       "    </tr>\n",
       "    <tr>\n",
       "      <th>240</th>\n",
       "      <td>4585000</td>\n",
       "    </tr>\n",
       "    <tr>\n",
       "      <th>113</th>\n",
       "      <td>6083000</td>\n",
       "    </tr>\n",
       "    <tr>\n",
       "      <th>76</th>\n",
       "      <td>6650000</td>\n",
       "    </tr>\n",
       "    <tr>\n",
       "      <th>...</th>\n",
       "      <td>...</td>\n",
       "    </tr>\n",
       "    <tr>\n",
       "      <th>485</th>\n",
       "      <td>2870000</td>\n",
       "    </tr>\n",
       "    <tr>\n",
       "      <th>417</th>\n",
       "      <td>3395000</td>\n",
       "    </tr>\n",
       "    <tr>\n",
       "      <th>208</th>\n",
       "      <td>4900000</td>\n",
       "    </tr>\n",
       "    <tr>\n",
       "      <th>325</th>\n",
       "      <td>4007500</td>\n",
       "    </tr>\n",
       "    <tr>\n",
       "      <th>78</th>\n",
       "      <td>6650000</td>\n",
       "    </tr>\n",
       "  </tbody>\n",
       "</table>\n",
       "<p>137 rows × 1 columns</p>\n",
       "</div>"
      ],
      "text/plain": [
       "       price\n",
       "19   8855000\n",
       "92   6405000\n",
       "240  4585000\n",
       "113  6083000\n",
       "76   6650000\n",
       "..       ...\n",
       "485  2870000\n",
       "417  3395000\n",
       "208  4900000\n",
       "325  4007500\n",
       "78   6650000\n",
       "\n",
       "[137 rows x 1 columns]"
      ]
     },
     "execution_count": 101,
     "metadata": {},
     "output_type": "execute_result"
    }
   ],
   "source": [
    "#see the difference\n",
    "y_test"
   ]
  },
  {
   "cell_type": "code",
   "execution_count": null,
   "id": "7bbcd7a6",
   "metadata": {},
   "outputs": [],
   "source": []
  },
  {
   "cell_type": "code",
   "execution_count": 102,
   "id": "c605a4d5",
   "metadata": {},
   "outputs": [
    {
     "data": {
      "text/plain": [
       "1171989.7075326627"
      ]
     },
     "execution_count": 102,
     "metadata": {},
     "output_type": "execute_result"
    }
   ],
   "source": [
    "np.mean(abs(y-predicted))"
   ]
  },
  {
   "cell_type": "code",
   "execution_count": null,
   "id": "b2af428d",
   "metadata": {},
   "outputs": [],
   "source": []
  },
  {
   "cell_type": "code",
   "execution_count": 103,
   "id": "5a3fc4a4",
   "metadata": {},
   "outputs": [
    {
     "data": {
      "text/plain": [
       "2476563545652.4595"
      ]
     },
     "execution_count": 103,
     "metadata": {},
     "output_type": "execute_result"
    }
   ],
   "source": [
    "from sklearn.metrics import mean_squared_error\n",
    "mean_squared_error(y,predicted)"
   ]
  },
  {
   "cell_type": "code",
   "execution_count": null,
   "id": "ab4c50d8",
   "metadata": {},
   "outputs": [],
   "source": []
  },
  {
   "cell_type": "code",
   "execution_count": 104,
   "id": "4cd11012",
   "metadata": {},
   "outputs": [
    {
     "data": {
      "text/plain": [
       "1573710.121227051"
      ]
     },
     "execution_count": 104,
     "metadata": {},
     "output_type": "execute_result"
    }
   ],
   "source": [
    "#method 1 to find square root\n",
    "np.sqrt(mean_squared_error(y,predicted))"
   ]
  },
  {
   "cell_type": "code",
   "execution_count": 105,
   "id": "b84a4a51",
   "metadata": {},
   "outputs": [
    {
     "data": {
      "text/plain": [
       "1573710.121227051"
      ]
     },
     "execution_count": 105,
     "metadata": {},
     "output_type": "execute_result"
    }
   ],
   "source": [
    "#method 2 to find square root\n",
    "mean_squared_error(y,predicted, squared=False)"
   ]
  },
  {
   "cell_type": "code",
   "execution_count": 106,
   "id": "f1898f45",
   "metadata": {},
   "outputs": [
    {
     "data": {
      "text/plain": [
       "1171989.7075326627"
      ]
     },
     "execution_count": 106,
     "metadata": {},
     "output_type": "execute_result"
    }
   ],
   "source": [
    "from sklearn.metrics import mean_absolute_error\n",
    "mean_absolute_error(y,predicted)"
   ]
  },
  {
   "cell_type": "code",
   "execution_count": 107,
   "id": "1ab212fd",
   "metadata": {},
   "outputs": [
    {
     "data": {
      "text/plain": [
       "0.2855633849624748"
      ]
     },
     "execution_count": 107,
     "metadata": {},
     "output_type": "execute_result"
    }
   ],
   "source": [
    "from sklearn.metrics import r2_score\n",
    "r2_score(y,predicted)"
   ]
  },
  {
   "cell_type": "markdown",
   "id": "6ed2ab4c",
   "metadata": {},
   "source": [
    "#Multivariet\n",
    "\n"
   ]
  },
  {
   "cell_type": "code",
   "execution_count": 108,
   "id": "fc536d39",
   "metadata": {},
   "outputs": [
    {
     "name": "stdout",
     "output_type": "stream",
     "text": [
      "(408, 12)\n",
      "     area  bedrooms  bathrooms  stories  mainroad  guestroom  basement  \\\n",
      "261  3510       3.0        1.0      2.0         1          0         0   \n",
      "530  1950       3.0        1.0      1.0         0          0         0   \n",
      "452  9000       3.0        1.0      2.0         1          0         0   \n",
      "205  6300       3.0        1.0      1.0         1          0         0   \n",
      "505  4000       3.0        1.0      2.0         1          0         0   \n",
      "..    ...       ...        ...      ...       ...        ...       ...   \n",
      "488  5200       4.0        1.0      3.0         1          0         0   \n",
      "325  3460       4.0        1.0      2.0         1          0         0   \n",
      "2    9960       3.0        2.0      2.0         1          0         1   \n",
      "339  3180       4.0        2.0      2.0         1          0         0   \n",
      "356  2520       5.0        2.0      1.0         0          0         1   \n",
      "\n",
      "     hotwaterheating  airconditioning  parking  prefarea  furnishingstatus  \n",
      "261                0                0      0.0         0                 1  \n",
      "530                1                0      0.0         0                 0  \n",
      "452                0                0      2.0         0                 1  \n",
      "205                0                1      2.0         0                 1  \n",
      "505                0                1      0.0         0                 0  \n",
      "..               ...              ...      ...       ...               ...  \n",
      "488                0                0      0.0         0                 0  \n",
      "325                0                1      0.0         0                 1  \n",
      "2                  0                0      2.0         1                 1  \n",
      "339                0                0      0.0         0                 2  \n",
      "356                0                1      1.0         0                 2  \n",
      "\n",
      "[408 rows x 12 columns]\n"
     ]
    }
   ],
   "source": [
    "x2=data[[\"area\", \"bedrooms\",\"bathrooms\",\"stories\",\"mainroad\",\"guestroom\",\"basement\",\"hotwaterheating\",\"airconditioning\",\"parking\",\"prefarea\",\"furnishingstatus\"]]\n",
    "y2=data[[\"price\"]]\n",
    "x_train2, x_test2, y_train2, y_test2=train_test_split(x2,y2,train_size=0.75)\n",
    "print(x_train2.shape)\n",
    "print(x_train2)"
   ]
  },
  {
   "cell_type": "code",
   "execution_count": 109,
   "id": "262d02d2",
   "metadata": {},
   "outputs": [
    {
     "name": "stdout",
     "output_type": "stream",
     "text": [
      "(137, 12)\n",
      "     area  bedrooms  bathrooms  stories  mainroad  guestroom  basement  \\\n",
      "270  4500       3.0        2.0      3.0         1          0         0   \n",
      "391  3036       3.0        1.0      2.0         1          0         1   \n",
      "340  5300       5.0        2.0      2.0         1          0         0   \n",
      "511  3180       3.0        1.0      1.0         0          0         0   \n",
      "382  3150       3.0        1.0      2.0         1          0         1   \n",
      "..    ...       ...        ...      ...       ...        ...       ...   \n",
      "359  3600       3.0        1.0      1.0         1          0         0   \n",
      "429  4775       4.0        1.0      2.0         1          0         0   \n",
      "431  3180       4.0        1.0      2.0         1          0         1   \n",
      "232  3745       3.0        1.0      2.0         1          0         1   \n",
      "320  4320       3.0        1.0      2.0         1          0         0   \n",
      "\n",
      "     hotwaterheating  airconditioning  parking  prefarea  furnishingstatus  \n",
      "270                1                0      1.0         0                 2  \n",
      "391                0                0      0.0         0                 1  \n",
      "340                0                0      0.0         0                 1  \n",
      "511                0                0      0.0         0                 0  \n",
      "382                0                0      0.0         0                 2  \n",
      "..               ...              ...      ...       ...               ...  \n",
      "359                0                0      1.0         0                 0  \n",
      "429                0                0      0.0         0                 0  \n",
      "431                0                1      0.0         0                 0  \n",
      "232                0                0      0.0         0                 2  \n",
      "320                0                0      2.0         1                 2  \n",
      "\n",
      "[137 rows x 12 columns]\n"
     ]
    }
   ],
   "source": [
    "print(x_test2.shape)\n",
    "print(x_test2)"
   ]
  },
  {
   "cell_type": "code",
   "execution_count": 110,
   "id": "86792bae",
   "metadata": {},
   "outputs": [
    {
     "name": "stdout",
     "output_type": "stream",
     "text": [
      "(408, 1)\n",
      "        price\n",
      "261   4473000\n",
      "530   2240000\n",
      "452   3150000\n",
      "205   4900000\n",
      "505   2653000\n",
      "..        ...\n",
      "488   2852500\n",
      "325   4007500\n",
      "2    12250000\n",
      "339   3885000\n",
      "356   3773000\n",
      "\n",
      "[408 rows x 1 columns]\n"
     ]
    }
   ],
   "source": [
    "print(y_train2.shape)\n",
    "print(y_train2)"
   ]
  },
  {
   "cell_type": "code",
   "execution_count": 111,
   "id": "3298f3cf",
   "metadata": {},
   "outputs": [
    {
     "name": "stdout",
     "output_type": "stream",
     "text": [
      "(137, 1)\n",
      "       price\n",
      "270  4340000\n",
      "391  3500000\n",
      "340  3850000\n",
      "511  2520000\n",
      "382  3570000\n",
      "..       ...\n",
      "359  3710000\n",
      "429  3325000\n",
      "431  3290000\n",
      "232  4655000\n",
      "320  4060000\n",
      "\n",
      "[137 rows x 1 columns]\n"
     ]
    }
   ],
   "source": [
    "print(y_test2.shape)\n",
    "print(y_test2)"
   ]
  },
  {
   "cell_type": "code",
   "execution_count": 112,
   "id": "91e91ecc",
   "metadata": {},
   "outputs": [],
   "source": [
    "reg2 = LinearRegression()"
   ]
  },
  {
   "cell_type": "code",
   "execution_count": 113,
   "id": "7ab9693d",
   "metadata": {},
   "outputs": [
    {
     "data": {
      "text/html": [
       "<style>#sk-container-id-5 {color: black;background-color: white;}#sk-container-id-5 pre{padding: 0;}#sk-container-id-5 div.sk-toggleable {background-color: white;}#sk-container-id-5 label.sk-toggleable__label {cursor: pointer;display: block;width: 100%;margin-bottom: 0;padding: 0.3em;box-sizing: border-box;text-align: center;}#sk-container-id-5 label.sk-toggleable__label-arrow:before {content: \"▸\";float: left;margin-right: 0.25em;color: #696969;}#sk-container-id-5 label.sk-toggleable__label-arrow:hover:before {color: black;}#sk-container-id-5 div.sk-estimator:hover label.sk-toggleable__label-arrow:before {color: black;}#sk-container-id-5 div.sk-toggleable__content {max-height: 0;max-width: 0;overflow: hidden;text-align: left;background-color: #f0f8ff;}#sk-container-id-5 div.sk-toggleable__content pre {margin: 0.2em;color: black;border-radius: 0.25em;background-color: #f0f8ff;}#sk-container-id-5 input.sk-toggleable__control:checked~div.sk-toggleable__content {max-height: 200px;max-width: 100%;overflow: auto;}#sk-container-id-5 input.sk-toggleable__control:checked~label.sk-toggleable__label-arrow:before {content: \"▾\";}#sk-container-id-5 div.sk-estimator input.sk-toggleable__control:checked~label.sk-toggleable__label {background-color: #d4ebff;}#sk-container-id-5 div.sk-label input.sk-toggleable__control:checked~label.sk-toggleable__label {background-color: #d4ebff;}#sk-container-id-5 input.sk-hidden--visually {border: 0;clip: rect(1px 1px 1px 1px);clip: rect(1px, 1px, 1px, 1px);height: 1px;margin: -1px;overflow: hidden;padding: 0;position: absolute;width: 1px;}#sk-container-id-5 div.sk-estimator {font-family: monospace;background-color: #f0f8ff;border: 1px dotted black;border-radius: 0.25em;box-sizing: border-box;margin-bottom: 0.5em;}#sk-container-id-5 div.sk-estimator:hover {background-color: #d4ebff;}#sk-container-id-5 div.sk-parallel-item::after {content: \"\";width: 100%;border-bottom: 1px solid gray;flex-grow: 1;}#sk-container-id-5 div.sk-label:hover label.sk-toggleable__label {background-color: #d4ebff;}#sk-container-id-5 div.sk-serial::before {content: \"\";position: absolute;border-left: 1px solid gray;box-sizing: border-box;top: 0;bottom: 0;left: 50%;z-index: 0;}#sk-container-id-5 div.sk-serial {display: flex;flex-direction: column;align-items: center;background-color: white;padding-right: 0.2em;padding-left: 0.2em;position: relative;}#sk-container-id-5 div.sk-item {position: relative;z-index: 1;}#sk-container-id-5 div.sk-parallel {display: flex;align-items: stretch;justify-content: center;background-color: white;position: relative;}#sk-container-id-5 div.sk-item::before, #sk-container-id-5 div.sk-parallel-item::before {content: \"\";position: absolute;border-left: 1px solid gray;box-sizing: border-box;top: 0;bottom: 0;left: 50%;z-index: -1;}#sk-container-id-5 div.sk-parallel-item {display: flex;flex-direction: column;z-index: 1;position: relative;background-color: white;}#sk-container-id-5 div.sk-parallel-item:first-child::after {align-self: flex-end;width: 50%;}#sk-container-id-5 div.sk-parallel-item:last-child::after {align-self: flex-start;width: 50%;}#sk-container-id-5 div.sk-parallel-item:only-child::after {width: 0;}#sk-container-id-5 div.sk-dashed-wrapped {border: 1px dashed gray;margin: 0 0.4em 0.5em 0.4em;box-sizing: border-box;padding-bottom: 0.4em;background-color: white;}#sk-container-id-5 div.sk-label label {font-family: monospace;font-weight: bold;display: inline-block;line-height: 1.2em;}#sk-container-id-5 div.sk-label-container {text-align: center;}#sk-container-id-5 div.sk-container {/* jupyter's `normalize.less` sets `[hidden] { display: none; }` but bootstrap.min.css set `[hidden] { display: none !important; }` so we also need the `!important` here to be able to override the default hidden behavior on the sphinx rendered scikit-learn.org. See: https://github.com/scikit-learn/scikit-learn/issues/21755 */display: inline-block !important;position: relative;}#sk-container-id-5 div.sk-text-repr-fallback {display: none;}</style><div id=\"sk-container-id-5\" class=\"sk-top-container\"><div class=\"sk-text-repr-fallback\"><pre>LinearRegression()</pre><b>In a Jupyter environment, please rerun this cell to show the HTML representation or trust the notebook. <br />On GitHub, the HTML representation is unable to render, please try loading this page with nbviewer.org.</b></div><div class=\"sk-container\" hidden><div class=\"sk-item\"><div class=\"sk-estimator sk-toggleable\"><input class=\"sk-toggleable__control sk-hidden--visually\" id=\"sk-estimator-id-5\" type=\"checkbox\" checked><label for=\"sk-estimator-id-5\" class=\"sk-toggleable__label sk-toggleable__label-arrow\">LinearRegression</label><div class=\"sk-toggleable__content\"><pre>LinearRegression()</pre></div></div></div></div></div>"
      ],
      "text/plain": [
       "LinearRegression()"
      ]
     },
     "execution_count": 113,
     "metadata": {},
     "output_type": "execute_result"
    }
   ],
   "source": [
    "reg2.fit(x2,y2)"
   ]
  },
  {
   "cell_type": "code",
   "execution_count": 114,
   "id": "57345f41",
   "metadata": {
    "scrolled": true
   },
   "outputs": [
    {
     "name": "stdout",
     "output_type": "stream",
     "text": [
      "[[ 8204903.6951782 ]\n",
      " [10613432.82289262]\n",
      " [ 7527675.06551492]\n",
      " [ 8407557.36589449]\n",
      " [ 6794827.08617738]\n",
      " [ 8312741.68363798]\n",
      " [ 9690765.52313741]\n",
      " [ 8524022.13564174]\n",
      " [ 7602529.08452989]\n",
      " [ 7696801.20430249]\n",
      " [ 8428136.33244946]\n",
      " [ 8188961.81871581]\n",
      " [ 7049776.26827482]\n",
      " [ 6168995.06547217]\n",
      " [ 6087115.69420016]\n",
      " [ 5068053.68625043]\n",
      " [ 7493853.66445936]\n",
      " [ 8147390.34502601]\n",
      " [ 6596917.0460699 ]\n",
      " [ 6890145.15900964]\n",
      " [ 5401287.30016098]\n",
      " [ 6692217.16911853]\n",
      " [ 6099421.29872735]\n",
      " [ 6663019.29625783]\n",
      " [ 6632750.40942297]\n",
      " [ 8194042.25012712]\n",
      " [ 8053312.53823167]\n",
      " [ 4571351.97347903]\n",
      " [ 7303061.01187674]\n",
      " [ 7144421.20825877]\n",
      " [ 7457333.42312942]\n",
      " [ 6585487.53450315]\n",
      " [ 6859043.87190004]\n",
      " [ 6682367.05628205]\n",
      " [ 6503689.30881002]\n",
      " [ 7779169.82452905]\n",
      " [ 7828938.56683191]\n",
      " [ 8397849.18268044]\n",
      " [ 6419411.26200799]\n",
      " [ 7165710.51831072]\n",
      " [ 6242736.344385  ]\n",
      " [ 7709882.08431631]\n",
      " [ 7213080.47786643]\n",
      " [ 6581840.69211135]\n",
      " [ 7384930.30142255]\n",
      " [ 6315652.11225197]\n",
      " [ 7257211.63726711]\n",
      " [ 7623768.38147365]\n",
      " [ 5001783.3157367 ]\n",
      " [ 7069218.53299075]\n",
      " [ 6952691.46665107]\n",
      " [ 5924090.67690371]\n",
      " [ 7683554.15903721]\n",
      " [ 7105811.39947097]\n",
      " [ 6444891.90849125]\n",
      " [ 4952585.7608507 ]\n",
      " [ 6767764.29604932]\n",
      " [ 9060770.56242501]\n",
      " [ 7876741.35888196]\n",
      " [ 7555835.49488176]\n",
      " [ 5584544.24202792]\n",
      " [ 5305208.37752192]\n",
      " [ 6552121.78142339]\n",
      " [ 7944694.52736035]\n",
      " [ 7208698.88787526]\n",
      " [ 7424870.53767442]\n",
      " [ 6950314.15855607]\n",
      " [ 5314633.12982261]\n",
      " [ 4945163.42543503]\n",
      " [ 8045087.34755606]\n",
      " [ 6372004.1833424 ]\n",
      " [ 6670012.89493491]\n",
      " [ 5968036.34620128]\n",
      " [ 7133130.34130887]\n",
      " [ 5275294.74584942]\n",
      " [ 5583384.66555085]\n",
      " [ 7278749.00349685]\n",
      " [ 7298387.43125669]\n",
      " [ 6439795.68593998]\n",
      " [ 6833495.75297846]\n",
      " [ 5825592.50091568]\n",
      " [ 6007706.66121248]\n",
      " [ 8017462.1605657 ]\n",
      " [ 6761514.01389131]\n",
      " [ 4911419.00151029]\n",
      " [ 7087202.67610925]\n",
      " [ 5419268.65497709]\n",
      " [ 3993693.21257979]\n",
      " [ 6059304.38756178]\n",
      " [ 7644857.13826879]\n",
      " [ 4649847.35670059]\n",
      " [ 5709483.71966907]\n",
      " [ 6984781.23822023]\n",
      " [ 6900337.55049459]\n",
      " [ 6305362.85184738]\n",
      " [ 6402195.13348376]\n",
      " [ 5814431.46669133]\n",
      " [ 6115934.30546275]\n",
      " [ 7070661.61780032]\n",
      " [ 5681139.34425854]\n",
      " [ 6345171.40078596]\n",
      " [ 5056135.1849216 ]\n",
      " [ 7213875.53827094]\n",
      " [ 6919413.87442775]\n",
      " [ 6504814.45699111]\n",
      " [ 5199611.20336844]\n",
      " [ 6409807.44900557]\n",
      " [ 5357898.56822759]\n",
      " [ 4074827.18448475]\n",
      " [ 6736592.5806097 ]\n",
      " [ 5581160.54866298]\n",
      " [ 6257204.88583319]\n",
      " [ 4497941.49340714]\n",
      " [ 6243107.12209404]\n",
      " [ 5080982.37462508]\n",
      " [ 6785180.70092348]\n",
      " [ 5857091.69603667]\n",
      " [ 4976285.21048516]\n",
      " [ 5764961.99763593]\n",
      " [ 6245986.10325081]\n",
      " [ 5785651.51095494]\n",
      " [ 6489312.53519344]\n",
      " [ 6023303.82179257]\n",
      " [ 5680415.0494539 ]\n",
      " [ 6525741.15297771]\n",
      " [ 7359032.81376771]\n",
      " [ 5200785.90225535]\n",
      " [ 6219172.50263912]\n",
      " [ 6012770.91282937]\n",
      " [ 7014895.67640532]\n",
      " [ 3726345.09803296]\n",
      " [ 5310823.74260034]\n",
      " [ 5144805.32773952]\n",
      " [ 4827393.4058285 ]\n",
      " [ 5380728.82984752]\n",
      " [ 6542294.23077947]\n",
      " [ 6183956.56398539]\n",
      " [ 4105323.26973739]\n",
      " [ 5095709.25833993]\n",
      " [ 6601812.71495864]\n",
      " [ 6493198.16137988]\n",
      " [ 6867454.60192773]\n",
      " [ 6518300.61005958]\n",
      " [ 5996608.04197269]\n",
      " [ 5850642.70207892]\n",
      " [ 4900443.27662777]\n",
      " [ 4842538.8731953 ]\n",
      " [ 5163180.21091428]\n",
      " [ 5209990.22618773]\n",
      " [ 5831762.1815899 ]\n",
      " [ 5755811.42512085]\n",
      " [ 5824008.85557908]\n",
      " [ 6514495.13126287]\n",
      " [ 5673507.41850066]\n",
      " [ 4985519.409232  ]\n",
      " [ 6353478.80757525]\n",
      " [ 5101848.97223443]\n",
      " [ 5076421.95116064]\n",
      " [ 4628124.90317982]\n",
      " [ 5594552.26508739]\n",
      " [ 6484164.68472874]\n",
      " [ 6305136.86004624]\n",
      " [ 6576247.94084389]\n",
      " [ 5943785.61267292]\n",
      " [ 6971229.73823403]\n",
      " [ 5979209.43851628]\n",
      " [ 6218240.99079739]\n",
      " [ 5505492.83954863]\n",
      " [ 5167529.65152119]\n",
      " [ 5703972.16417515]\n",
      " [ 4793239.7733428 ]\n",
      " [ 5554326.9395881 ]\n",
      " [ 7110014.95825016]\n",
      " [ 5801366.30951221]\n",
      " [ 4843979.85533219]\n",
      " [ 6921566.06503962]\n",
      " [ 5840251.74013389]\n",
      " [ 4594566.81967151]\n",
      " [ 5700218.516957  ]\n",
      " [ 4870143.64614295]\n",
      " [ 5662685.33951971]\n",
      " [ 6117052.60134897]\n",
      " [ 3833437.50700199]\n",
      " [ 4987455.58837036]\n",
      " [ 5143244.44821369]\n",
      " [ 3709620.78795161]\n",
      " [ 6095305.19584455]\n",
      " [ 5467188.50348474]\n",
      " [ 5120430.12166575]\n",
      " [ 3082444.88180009]\n",
      " [ 6187990.38669054]\n",
      " [ 5839760.83007218]\n",
      " [ 5247424.65124688]\n",
      " [ 3817846.21698936]\n",
      " [ 5742386.55050208]\n",
      " [ 6626664.94835179]\n",
      " [ 5527380.42360354]\n",
      " [ 5287034.14684309]\n",
      " [ 4882562.72565467]\n",
      " [ 4088813.03601468]\n",
      " [ 4884416.09447339]\n",
      " [ 4652614.70664208]\n",
      " [ 3628773.56368005]\n",
      " [ 4015410.49319189]\n",
      " [ 3938200.47073486]\n",
      " [ 5076065.58668656]\n",
      " [ 4923674.23045067]\n",
      " [ 4511285.96703647]\n",
      " [ 3737036.48747071]\n",
      " [ 3546644.2023226 ]\n",
      " [ 4906578.48987439]\n",
      " [ 6055107.99352168]\n",
      " [ 6269524.56437306]\n",
      " [ 4796990.86226426]\n",
      " [ 3189536.42011378]\n",
      " [ 3809938.31728646]\n",
      " [ 4792668.39239764]\n",
      " [ 6519882.58884448]\n",
      " [ 4671628.28910508]\n",
      " [ 4413639.90545319]\n",
      " [ 7335633.88468818]\n",
      " [ 4503821.91304997]\n",
      " [ 6004292.90135913]\n",
      " [ 5822223.82279254]\n",
      " [ 6337095.06898518]\n",
      " [ 5259192.0113748 ]\n",
      " [ 5583302.81896892]\n",
      " [ 5169844.06561142]\n",
      " [ 4006147.29537797]\n",
      " [ 6964838.64295675]\n",
      " [ 4400748.5272749 ]\n",
      " [ 3817486.51503319]\n",
      " [ 4053040.94219846]\n",
      " [ 4429585.3424176 ]\n",
      " [ 5394379.19337335]\n",
      " [ 5391875.69053784]\n",
      " [ 4430706.4113165 ]\n",
      " [ 4144353.79803906]\n",
      " [ 5123794.79560958]\n",
      " [ 3952679.46832085]\n",
      " [ 4421995.69037747]\n",
      " [ 3230374.71332732]\n",
      " [ 4535213.86789519]\n",
      " [ 3759691.92753588]\n",
      " [ 5159851.92561697]\n",
      " [ 4852383.87496652]\n",
      " [ 3621102.23743481]\n",
      " [ 6253789.07514454]\n",
      " [ 4811605.03601173]\n",
      " [ 6400244.36528899]\n",
      " [ 4147498.14533992]\n",
      " [ 3950844.79869195]\n",
      " [ 4536672.27500807]\n",
      " [ 4158465.25803054]\n",
      " [ 5077550.83026014]\n",
      " [ 4350774.95515115]\n",
      " [ 4316194.80687906]\n",
      " [ 4360668.69945317]\n",
      " [ 3830316.39738317]\n",
      " [ 5258216.99053069]\n",
      " [ 4694352.10229412]\n",
      " [ 3423733.97321028]\n",
      " [ 3560091.85264149]\n",
      " [ 3110067.87416352]\n",
      " [ 3989632.29571384]\n",
      " [ 3909856.71699545]\n",
      " [ 4288691.40676815]\n",
      " [ 4046339.10274139]\n",
      " [ 4765292.00350614]\n",
      " [ 3300251.52542765]\n",
      " [ 6456140.80969007]\n",
      " [ 3211478.55094941]\n",
      " [ 4320547.31009921]\n",
      " [ 4321173.29753551]\n",
      " [ 4273164.85753976]\n",
      " [ 3549913.2359921 ]\n",
      " [ 3345108.75650766]\n",
      " [ 5448946.98700947]\n",
      " [ 4942861.48229415]\n",
      " [ 3768992.17947156]\n",
      " [ 3776414.51488722]\n",
      " [ 4725702.0810466 ]\n",
      " [ 3962072.65729413]\n",
      " [ 3979330.71542583]\n",
      " [ 4391597.30900267]\n",
      " [ 4493166.12039856]\n",
      " [ 4012784.23052896]\n",
      " [ 4553367.74708774]\n",
      " [ 4792846.0918005 ]\n",
      " [ 4628556.26186517]\n",
      " [ 4853349.24092385]\n",
      " [ 4280528.60761573]\n",
      " [ 3912517.54154851]\n",
      " [ 2702247.67889398]\n",
      " [ 4220104.41633697]\n",
      " [ 2706743.66404585]\n",
      " [ 5802595.56507944]\n",
      " [ 4563288.44645407]\n",
      " [ 4966337.00774682]\n",
      " [ 4883251.78649761]\n",
      " [ 4009274.19229146]\n",
      " [ 4344866.40956446]\n",
      " [ 4232548.6207434 ]\n",
      " [ 3792516.70254259]\n",
      " [ 5323281.74146506]\n",
      " [ 3685482.99265437]\n",
      " [ 4026700.67498155]\n",
      " [ 4116613.45152706]\n",
      " [ 4184188.58379698]\n",
      " [ 4687229.25316078]\n",
      " [ 3937835.23472275]\n",
      " [ 4105005.43685612]\n",
      " [ 5072707.41910165]\n",
      " [ 4439928.139114  ]\n",
      " [ 3702597.73322773]\n",
      " [ 4223554.9991046 ]\n",
      " [ 5096174.43711707]\n",
      " [ 5095734.25179144]\n",
      " [ 3181620.75957926]\n",
      " [ 5637822.21335918]\n",
      " [ 5035523.8803123 ]\n",
      " [ 5853969.06331463]\n",
      " [ 5648505.15530608]\n",
      " [ 4271263.44818901]\n",
      " [ 4453410.3895616 ]\n",
      " [ 4399526.28647916]\n",
      " [ 2957507.56370334]\n",
      " [ 4863540.01254973]\n",
      " [ 5427872.89647567]\n",
      " [ 3753419.9124712 ]\n",
      " [ 4501153.43766227]\n",
      " [ 6572562.34557762]\n",
      " [ 4690981.68983816]\n",
      " [ 3298538.99624131]\n",
      " [ 4165204.61547434]\n",
      " [ 4910192.82803181]\n",
      " [ 5513020.60434295]\n",
      " [ 4518927.45260209]\n",
      " [ 4013318.16469076]\n",
      " [ 4664126.41288229]\n",
      " [ 5093043.6295616 ]\n",
      " [ 4648962.38468   ]\n",
      " [ 5397340.84655207]\n",
      " [ 2990077.20520434]\n",
      " [ 2933616.72539481]\n",
      " [ 4049915.52117402]\n",
      " [ 3907943.74616808]\n",
      " [ 3165237.33457876]\n",
      " [ 3662546.19577029]\n",
      " [ 3745313.22777762]\n",
      " [ 4423759.17911157]\n",
      " [ 2872246.63864532]\n",
      " [ 3753403.7098669 ]\n",
      " [ 4569046.87341867]\n",
      " [ 4546249.92761139]\n",
      " [ 4913624.3799811 ]\n",
      " [ 5247094.85946703]\n",
      " [ 4460596.94950276]\n",
      " [ 3483564.35939945]\n",
      " [ 3057223.35995289]\n",
      " [ 2980257.99132443]\n",
      " [ 3594027.74253585]\n",
      " [ 3201932.57790624]\n",
      " [ 3741678.21411594]\n",
      " [ 4127659.10526365]\n",
      " [ 3545605.0637034 ]\n",
      " [ 3451230.13649892]\n",
      " [ 3520738.93240676]\n",
      " [ 2946930.44854935]\n",
      " [ 3091466.42175715]\n",
      " [ 4452476.62159521]\n",
      " [ 3790862.09836198]\n",
      " [ 3269028.66506094]\n",
      " [ 4250387.78166104]\n",
      " [ 4179470.02213137]\n",
      " [ 4456964.20218995]\n",
      " [ 5103349.97579102]\n",
      " [ 4584038.23674773]\n",
      " [ 5940909.93618693]\n",
      " [ 3954838.13485091]\n",
      " [ 3093178.95094349]\n",
      " [ 3611214.1398384 ]\n",
      " [ 3906980.13573467]\n",
      " [ 5893515.45577938]\n",
      " [ 2886302.6360835 ]\n",
      " [ 2662846.0694134 ]\n",
      " [ 3395071.28696635]\n",
      " [ 4463282.29298213]\n",
      " [ 3238881.43867816]\n",
      " [ 3819026.21559351]\n",
      " [ 3415345.12191847]\n",
      " [ 3659775.59306506]\n",
      " [ 3541564.5397693 ]\n",
      " [ 3293366.26863734]\n",
      " [ 3185539.44654067]\n",
      " [ 3886241.25405855]\n",
      " [ 3158543.6927892 ]\n",
      " [ 3932549.06011646]\n",
      " [ 3385254.6950332 ]\n",
      " [ 4069275.78015168]\n",
      " [ 3548677.78765552]\n",
      " [ 6145150.35180209]\n",
      " [ 3212722.04668886]\n",
      " [ 5074513.88203798]\n",
      " [ 3119635.7744538 ]\n",
      " [ 2648186.13231002]\n",
      " [ 3992506.25502785]\n",
      " [ 4394510.34670311]\n",
      " [ 2751218.99433267]\n",
      " [ 3104108.19205726]\n",
      " [ 2842115.60643841]\n",
      " [ 4394510.34670311]\n",
      " [ 3976756.54452598]\n",
      " [ 4789202.02242139]\n",
      " [ 2761038.20821259]\n",
      " [ 5743789.86741831]\n",
      " [ 3649278.45249898]\n",
      " [ 3101285.63563707]\n",
      " [ 4743081.39777517]\n",
      " [ 3927164.94418029]\n",
      " [ 3226538.53761176]\n",
      " [ 2935329.25458115]\n",
      " [ 3116736.06566475]\n",
      " [ 2817567.57173862]\n",
      " [ 3249390.2373011 ]\n",
      " [ 3894947.06261275]\n",
      " [ 2572156.67564259]\n",
      " [ 4301047.74939559]\n",
      " [ 3037516.04847656]\n",
      " [ 3642765.49320632]\n",
      " [ 2817250.04232722]\n",
      " [ 4463971.31053971]\n",
      " [ 4474089.90147408]\n",
      " [ 3394469.96924792]\n",
      " [ 3620678.09521915]\n",
      " [ 2761038.20821259]\n",
      " [ 4301047.74939559]\n",
      " [ 3616918.55110827]\n",
      " [ 2667082.85297167]\n",
      " [ 2307939.27207098]\n",
      " [ 3716544.60369544]\n",
      " [ 3415627.2885167 ]\n",
      " [ 3564992.36441064]\n",
      " [ 2807873.1118196 ]\n",
      " [ 3121120.32302108]\n",
      " [ 2926925.70555202]\n",
      " [ 4223649.68062738]\n",
      " [ 2774001.81030551]\n",
      " [ 3546715.09093725]\n",
      " [ 2674223.95104221]\n",
      " [ 3761404.45672222]\n",
      " [ 3645509.73168893]\n",
      " [ 5324376.75875708]\n",
      " [ 2799154.63154152]\n",
      " [ 4307887.40008977]\n",
      " [ 3598330.0815819 ]\n",
      " [ 3345673.28810309]\n",
      " [ 3067708.87998165]\n",
      " [ 3287977.50807775]\n",
      " [ 2628478.82083368]\n",
      " [ 4034166.25728833]\n",
      " [ 4199627.09824588]\n",
      " [ 3018638.71112301]\n",
      " [ 3178855.04051099]\n",
      " [ 4688877.95386938]\n",
      " [ 2702122.92493307]\n",
      " [ 2894536.1294993 ]\n",
      " [ 3910409.96004876]\n",
      " [ 2684454.17319187]\n",
      " [ 3336946.76875513]\n",
      " [ 2716978.4138861 ]\n",
      " [ 3263429.47337795]\n",
      " [ 4410343.79979738]\n",
      " [ 3745414.39967446]\n",
      " [ 3389309.04871831]\n",
      " [ 3170820.33208587]\n",
      " [ 4407815.34666949]\n",
      " [ 2986880.12745072]\n",
      " [ 3076989.1636204 ]\n",
      " [ 2942958.80833175]\n",
      " [ 3266751.30509248]\n",
      " [ 2444438.01148715]\n",
      " [ 2690045.16720734]\n",
      " [ 4185950.45063898]\n",
      " [ 2089461.76324279]\n",
      " [ 2660391.26594342]\n",
      " [ 3461399.47144045]\n",
      " [ 3796190.71008005]\n",
      " [ 4192956.54231979]\n",
      " [ 3222564.84263284]\n",
      " [ 4134458.68489147]\n",
      " [ 2706187.03093124]\n",
      " [ 3622278.23627597]\n",
      " [ 3307558.01083187]\n",
      " [ 3438563.96592699]\n",
      " [ 3601277.40039141]\n",
      " [ 2751218.99433267]\n",
      " [ 2735017.2914308 ]\n",
      " [ 2925339.9850879 ]\n",
      " [ 5055424.60520916]\n",
      " [ 2584361.24209054]\n",
      " [ 2067437.41572947]\n",
      " [ 3119266.83726953]\n",
      " [ 3098157.44159995]\n",
      " [ 3411500.17799266]\n",
      " [ 4185147.22659078]\n",
      " [ 2057549.31813305]\n",
      " [ 2653026.85553348]\n",
      " [ 2849411.13313186]\n",
      " [ 5140667.97490635]\n",
      " [ 2177903.57187855]\n",
      " [ 2251547.67597794]\n",
      " [ 3390040.11519771]\n",
      " [ 3422991.69892664]\n",
      " [ 2872442.89826948]\n",
      " [ 3483269.39033087]\n",
      " [ 2713659.530521  ]\n",
      " [ 2782216.48759866]\n",
      " [ 2927102.67844834]\n",
      " [ 3403284.3874503 ]\n",
      " [ 3659496.27822517]\n",
      " [ 2235522.56970658]\n",
      " [ 3388881.59717921]\n",
      " [ 4567652.63651209]\n",
      " [ 2570545.45894216]\n",
      " [ 2662846.0694134 ]\n",
      " [ 2549925.10979433]\n",
      " [ 2365522.51290089]\n",
      " [ 2190039.82179546]\n",
      " [ 3669834.45404933]\n",
      " [ 2822966.11019303]\n",
      " [ 4273089.04047087]\n",
      " [ 2079642.54936287]\n",
      " [ 2932031.00493069]\n",
      " [ 3207037.87728491]\n",
      " [ 2870589.41251794]\n",
      " [ 3011762.18920768]\n",
      " [ 2760194.76203211]\n",
      " [ 2665055.39253638]\n",
      " [ 2353665.58615686]\n",
      " [ 3411093.63219445]\n",
      " [ 2279292.78843136]\n",
      " [ 2657936.46247344]\n",
      " [ 2623707.54851217]\n",
      " [ 3287977.50807775]]\n"
     ]
    }
   ],
   "source": [
    "pred  = reg2.predict(x2)\n",
    "print(pred)"
   ]
  },
  {
   "cell_type": "code",
   "execution_count": 115,
   "id": "db0daf82",
   "metadata": {},
   "outputs": [
    {
     "name": "stderr",
     "output_type": "stream",
     "text": [
      "/home/student/.local/lib/python3.8/site-packages/numpy/core/fromnumeric.py:3472: FutureWarning: In a future version, DataFrame.mean(axis=None) will return a scalar mean over the entire DataFrame. To retain the old behavior, use 'frame.mean(axis=0)' or just 'frame.mean()'\n",
      "  return mean(axis=axis, dtype=dtype, out=out, **kwargs)\n"
     ]
    },
    {
     "data": {
      "text/plain": [
       "price    780364.722949\n",
       "dtype: float64"
      ]
     },
     "execution_count": 115,
     "metadata": {},
     "output_type": "execute_result"
    }
   ],
   "source": [
    "np.mean(abs(y2- pred))"
   ]
  },
  {
   "cell_type": "code",
   "execution_count": 116,
   "id": "d36392a5",
   "metadata": {},
   "outputs": [
    {
     "data": {
      "text/plain": [
       "1125970371327.309"
      ]
     },
     "execution_count": 116,
     "metadata": {},
     "output_type": "execute_result"
    }
   ],
   "source": [
    "mean_squared_error(y2,pred)"
   ]
  },
  {
   "cell_type": "code",
   "execution_count": 117,
   "id": "e23ac252",
   "metadata": {},
   "outputs": [
    {
     "data": {
      "text/plain": [
       "1061117.5106119534"
      ]
     },
     "execution_count": 117,
     "metadata": {},
     "output_type": "execute_result"
    }
   ],
   "source": [
    "np.sqrt(mean_squared_error(y2,pred))"
   ]
  },
  {
   "cell_type": "code",
   "execution_count": 118,
   "id": "853d9212",
   "metadata": {},
   "outputs": [
    {
     "data": {
      "text/plain": [
       "780364.7229486585"
      ]
     },
     "execution_count": 118,
     "metadata": {},
     "output_type": "execute_result"
    }
   ],
   "source": [
    "mean_absolute_error(y2,pred)"
   ]
  },
  {
   "cell_type": "code",
   "execution_count": 119,
   "id": "46f7a6a3",
   "metadata": {},
   "outputs": [
    {
     "data": {
      "text/plain": [
       "0.6775687099901195"
      ]
     },
     "execution_count": 119,
     "metadata": {},
     "output_type": "execute_result"
    }
   ],
   "source": [
    "r2_score(y2,pred)"
   ]
  },
  {
   "cell_type": "code",
   "execution_count": null,
   "id": "eb5f6f72",
   "metadata": {},
   "outputs": [],
   "source": []
  }
 ],
 "metadata": {
  "kernelspec": {
   "display_name": "Python 3 (ipykernel)",
   "language": "python",
   "name": "python3"
  },
  "language_info": {
   "codemirror_mode": {
    "name": "ipython",
    "version": 3
   },
   "file_extension": ".py",
   "mimetype": "text/x-python",
   "name": "python",
   "nbconvert_exporter": "python",
   "pygments_lexer": "ipython3",
   "version": "3.10.4"
  }
 },
 "nbformat": 4,
 "nbformat_minor": 5
}
